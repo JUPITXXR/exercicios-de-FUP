{
  "cells": [
    {
      "cell_type": "markdown",
      "metadata": {
        "id": "view-in-github",
        "colab_type": "text"
      },
      "source": [
        "<a href=\"https://colab.research.google.com/github/JUPITXXR/exercicios-de-FUP/blob/main/13_exercicios_revisao.ipynb\" target=\"_parent\"><img src=\"https://colab.research.google.com/assets/colab-badge.svg\" alt=\"Open In Colab\"/></a>"
      ]
    },
    {
      "cell_type": "markdown",
      "metadata": {
        "id": "zqHLpi-qsBlF"
      },
      "source": [
        "# Exercícios de Revisão\n",
        "\n",
        "> Antes de iniciar qualquer notebook, é importante que você limpe as saídas de todas as células para que você só veja o resultado de uma célula quando executá-la. Para isso, utilize o menu **Editar > Limpar todas as saídas**.\n",
        "\n",
        "## Requisitos\n",
        "\n",
        "Certifique-se de que você concluiu os seguintes notebooks:\n",
        "\n",
        "* [Introdução ao Python](01-intro.ipynb)\n",
        "* [Introdução à sintaxe de Python](02-sintaxe.ipynb)\n",
        "* [Strings, saída e entrada de dados e a biblioteca math](03-strings.ipynb)\n",
        "* [Exercícios sobre Estrutura Sequencial](04-exercicios.ipynb)\n",
        "* [Estrutura condicional](05-condicoes-fluxo-controle.ipynb)\n",
        "* [O comando while](07-while.ipynb)\n",
        "* [Exercícios sobre o comando while](08-while-exercicios.ipynb)\n",
        "* [O comando for](09-for.ipynb)\n",
        "* [Exercícios sobre o comando for (Parte I)](10-for-exercicios-parte1.ipynb)\n",
        "* [Exercícios sobre o comando for (Parte II)](11-for-exercicios-parte2.ipynb)\n",
        "* [Exercícios sobre strings](12-exercicios-strings.ipynb)\n",
        "\n",
        "## Exercícios\n",
        "### Questão 1\n",
        "\n",
        "Na célula abaixo, escreva um programa para calcular o fatorial de vários números numa mesma execução. O usuário deve digitar um número menor ou igual a zero para interromper a execução.\n",
        "\n",
        "> Dica 1: você já fez um programa para calcular o fatorial de um único número em exercícios passados. Você pode aproveitá-lo para resolver essa questão.\n",
        "\n",
        "> Dica 2: você vai precisar de dois laços aninhados para implementar esse programa. Um laço para receber os números e outro laço para calcular o fatorial.\n",
        "\n",
        "Exemplo de execução do programa:\n",
        "\n",
        "```\n",
        "Digite um número inteiro positivo: 4\n",
        "Fatorial de 4: 24\n",
        "Digite um número inteiro positivo: 5\n",
        "Fatorial de 4: 120\n",
        "Digite um número inteiro positivo: 0\n",
        "Fim.\n",
        "```"
      ]
    },
    {
      "cell_type": "code",
      "execution_count": null,
      "metadata": {
        "id": "5PcQqfjFsBlH",
        "colab": {
          "base_uri": "https://localhost:8080/"
        },
        "outputId": "b3fa8ed9-65d5-4e5f-b42f-b7c21301b290"
      },
      "outputs": [
        {
          "output_type": "stream",
          "name": "stdout",
          "text": [
            "Digite um numero inteiro positivo:0\n",
            "Fim.\n"
          ]
        }
      ],
      "source": [
        "while True: #inicia o loop para solicitar numero enquanto a entrada for != 0.\n",
        "  num = int(input(\"Digite um numero inteiro positivo:\"))\n",
        "  if num <= 0:\n",
        "    print(\"Fim.\")\n",
        "    break\n",
        "  fat = 1 #iniciar a variavel dentro do while para não ficar guardando o valor das outras entradas.\n",
        "  for i in range(num, 1, -1):\n",
        "    fat = fat * i\n",
        "  print(f\"O fatorial de {num} é {fat}.\")"
      ]
    },
    {
      "cell_type": "markdown",
      "metadata": {
        "id": "BB2JwvVwsBlI"
      },
      "source": [
        "### Questão 2\n",
        "\n",
        "Na célula abaixo, faça um programa que receba um número inteiro maior que 1, verifique se o número fornecido é primo ou não e mostre uma mensagem de número primo ou de número não primo. Um número é primo quando é divisível apenas por 1 e por ele mesmo."
      ]
    },
    {
      "cell_type": "code",
      "execution_count": null,
      "metadata": {
        "collapsed": true,
        "id": "iy_YDCbHsBlI",
        "colab": {
          "base_uri": "https://localhost:8080/"
        },
        "outputId": "54e27479-ba87-4020-c59a-e47302527e5f"
      },
      "outputs": [
        {
          "output_type": "stream",
          "name": "stdout",
          "text": [
            "Digite um número interio positivo: 2\n",
            "É primo.\n"
          ]
        }
      ],
      "source": [
        "num = int(input(\"Digite um número interio positivo: \"))\n",
        "if num <= 1:\n",
        "  print(\"Não é primo.\")\n",
        "else:\n",
        "  primo = True\n",
        "  for i in range(2, num): #percorre do 2 até numero-1 para dps ir dividindo.\n",
        "    if num % i == 0: # se o resto da divisão por qualquer numero no intervalo de tempo for 0, então não é primo.\n",
        "      primo = False\n",
        "      break\n",
        "  if primo:\n",
        "    print(\"É primo.\")\n",
        "  else:\n",
        "    print(\"Não é primo.\")"
      ]
    },
    {
      "cell_type": "markdown",
      "metadata": {
        "id": "1Cm6tAi7sBlI"
      },
      "source": [
        "### Questão 3\n",
        "\n",
        "Na célula abaixo, faça um programa que receba o número de alunos de uma turma, e para cada aluno receba duas notas, calcule e mostre:\n",
        "* A média das duas notas, sabendo-se que a segunda nota possui peso 2\n",
        "* O resultado do aluno: Aprovado (se M ≥ 7), Reprovado (se M < 4) e AF (4 ≤ M < 7).\n",
        "* Ao final, mostre:\n",
        " + Os totais de alunos aprovados, reprovados e que ficaram de AF e a média da turma.\n"
      ]
    },
    {
      "cell_type": "code",
      "execution_count": null,
      "metadata": {
        "id": "3zWwtkeZsBlI",
        "colab": {
          "base_uri": "https://localhost:8080/"
        },
        "outputId": "5b73d12d-6343-46f4-cb77-7573aa6d2e6d"
      },
      "outputs": [
        {
          "output_type": "stream",
          "name": "stdout",
          "text": [
            "Número de alunos na turma: 3\n",
            "Digite a primeira nota do aluno 1: 10\n",
            "Digite a segunda nota do aluno 1: 5\n",
            "A média do aluno 1 é 10.0.\n",
            "Aluno Aprovado.\n",
            "Digite a primeira nota do aluno 2: 1\n",
            "Digite a segunda nota do aluno 2: 1\n",
            "A média do aluno 2 é 1.5.\n",
            "Aluno Reprovado.\n",
            "Digite a primeira nota do aluno 3: 2\n",
            "Digite a segunda nota do aluno 3: 5\n",
            "A média do aluno 3 é 6.0.\n",
            "Aluno de AF\n",
            "O total de alunos Aprovados é de: 1\n",
            "O total de alunos Reprovados é de: 1\n",
            "O total de alunos de AF é de: 1\n",
            "A média da turma é de: 5.833333333333333\n"
          ]
        }
      ],
      "source": [
        "aprov = 0\n",
        "reprov = 0\n",
        "AF = 0\n",
        "nota_turma = 0\n",
        "num_alu = int(input(\"Número de alunos na turma: \"))\n",
        "for i in range(0, num_alu):\n",
        "  n1 = float(input(f\"Digite a primeira nota do aluno {i+1}: \"))\n",
        "  n2 = float(input(f\"Digite a segunda nota do aluno {i+1}: \"))\n",
        "  media = (n1+(n2*2))/2\n",
        "  print(f\"A média do aluno {i+1} é {media}.\")\n",
        "  if media >= 7:\n",
        "    print(\"Aluno Aprovado.\")\n",
        "    aprov += 1\n",
        "  elif media < 4:\n",
        "    print(\"Aluno Reprovado.\")\n",
        "    reprov += 1\n",
        "  else:\n",
        "    print(\"Aluno de AF\")\n",
        "    AF += 1\n",
        "  nota_turma += media\n",
        "media_turma = nota_turma/num_alu\n",
        "print(f\"O total de alunos Aprovados é de: {aprov}\")\n",
        "print(f\"O total de alunos Reprovados é de: {reprov}\")\n",
        "print(f\"O total de alunos de AF é de: {AF}\")\n",
        "print(f\"A média da turma é de: {media_turma}\")"
      ]
    },
    {
      "cell_type": "markdown",
      "metadata": {
        "id": "rR1LBPahsBlI"
      },
      "source": [
        "### Questão 4\n",
        "\n",
        "Na célula abaixo, faça um programa para calcular a área de um triângulo, recebendo a base e altura e que não permita a entrada de dados inválidos (valores menores ou iguais a 0)."
      ]
    },
    {
      "cell_type": "code",
      "execution_count": null,
      "metadata": {
        "collapsed": true,
        "id": "QcsOSFoNsBlJ",
        "colab": {
          "base_uri": "https://localhost:8080/"
        },
        "outputId": "c61b5061-22ca-4659-f4ed-de733a000d8a"
      },
      "outputs": [
        {
          "output_type": "stream",
          "name": "stdout",
          "text": [
            "Qual a base do triângulo? 5\n",
            "Qual a altura do triãngulo? 5\n",
            "A área do triÂngulo é 12.5\n"
          ]
        }
      ],
      "source": [
        "base = float(input(\"Qual a base do triângulo? \"))\n",
        "if base <=0:\n",
        "  print(float(input(\"Número inválido, forneça um número válido:\")))\n",
        "altura = float(input(\"Qual a altura do triãngulo? \"))\n",
        "if altura <=0:\n",
        "  print(float(input(\"Número inválido, forneça um número válido:\")))\n",
        "print(f\"A área do triÂngulo é {(base*altura)/2}\")"
      ]
    },
    {
      "cell_type": "markdown",
      "metadata": {
        "id": "n6Kf7d3LsBlJ"
      },
      "source": [
        "### Questão 5\n",
        "\n",
        "Na célula abaixo, faça um programa que leia um conjunto não determinado de valores e mostre o valor lido, seu quadrado, seu cubo e sua raiz quadrada. Finalize a entrada de dados com um valor negativo ou zero."
      ]
    },
    {
      "cell_type": "code",
      "execution_count": null,
      "metadata": {
        "collapsed": true,
        "id": "UQF2NHjBsBlJ",
        "colab": {
          "base_uri": "https://localhost:8080/"
        },
        "outputId": "f3263ffe-4d74-422e-d4e8-fac4543608a8"
      },
      "outputs": [
        {
          "output_type": "stream",
          "name": "stdout",
          "text": [
            "Escolha um número: 1\n",
            "O número escolhido foi  1\n",
            "Seu quadrado é:  1\n",
            "Seu cubo é:  1\n",
            "E sua raíz quadrada é:  1.0\n",
            "Escolha um número: 2\n",
            "O número escolhido foi  2\n",
            "Seu quadrado é:  4\n",
            "Seu cubo é:  8\n",
            "E sua raíz quadrada é:  1.4142135623730951\n",
            "Escolha um número: 4\n",
            "O número escolhido foi  4\n",
            "Seu quadrado é:  16\n",
            "Seu cubo é:  64\n",
            "E sua raíz quadrada é:  2.0\n",
            "Escolha um número: 0\n",
            "Fim.\n"
          ]
        }
      ],
      "source": [
        "while True:\n",
        "  n = int(input(\"Escolha um número: \"))\n",
        "  if n <= 0:\n",
        "    print(\"Fim.\")\n",
        "    break\n",
        "  print(\"O número escolhido foi \", n)\n",
        "  print(\"Seu quadrado é: \", (n**2))\n",
        "  print(\"Seu cubo é: \", (n**3))\n",
        "  print(\"E sua raíz quadrada é: \", (n**0.5))"
      ]
    },
    {
      "cell_type": "markdown",
      "metadata": {
        "id": "NexLPCcfsBlJ"
      },
      "source": [
        "### Questão 6\n",
        "\n",
        "Na célula abaixo, faça um programa que receba dez números inteiros e mostre a quantidade de números primos dentre os números que foram digitados."
      ]
    },
    {
      "cell_type": "code",
      "execution_count": null,
      "metadata": {
        "collapsed": true,
        "id": "4u9umJIGsBlJ",
        "colab": {
          "base_uri": "https://localhost:8080/"
        },
        "outputId": "ec4c11c0-cafc-4680-cf23-ec823ab22926"
      },
      "outputs": [
        {
          "output_type": "stream",
          "name": "stdout",
          "text": [
            "Digite um número inteiro positivo: 1\n",
            "Digite um número inteiro positivo: 2\n",
            "Digite um número inteiro positivo: 3\n",
            "Digite um número inteiro positivo: 4\n",
            "Digite um número inteiro positivo: 5\n",
            "Digite um número inteiro positivo: 6\n",
            "Digite um número inteiro positivo: 7\n",
            "Digite um número inteiro positivo: 8\n",
            "Digite um número inteiro positivo: 9\n",
            "Digite um número inteiro positivo: 10\n",
            "Dentre esses números, 4 são números primos.\n"
          ]
        }
      ],
      "source": [
        "primo = 0\n",
        "for i in range(0,10):\n",
        "  n = int(input(\"Digite um número inteiro positivo: \"))\n",
        "  if n <= 1:\n",
        "    eh_primo = False\n",
        "  else:\n",
        "    eh_primo = True\n",
        "    for t in range(2, n):\n",
        "      if n % t == 0:\n",
        "        eh_primo = False\n",
        "        break\n",
        "      else:\n",
        "        eh_primo = True\n",
        "    if eh_primo:\n",
        "      primo += 1\n",
        "    else:\n",
        "      eh_primo = primo\n",
        "print(f\"Dentre esses números, {primo} são números primos.\")"
      ]
    },
    {
      "cell_type": "markdown",
      "metadata": {
        "id": "xbT2d2cCsBlJ"
      },
      "source": [
        "### Questão 7\n",
        "\n",
        "Na célula abaixo, faça um programa que receba dez números inteiros, calcule e mostre a soma dos números pares e a soma dos números primos."
      ]
    },
    {
      "cell_type": "code",
      "execution_count": null,
      "metadata": {
        "collapsed": true,
        "id": "vo06T3r1sBlJ",
        "colab": {
          "base_uri": "https://localhost:8080/"
        },
        "outputId": "e6ff153f-194c-4aed-fd3d-bce70a1fb058"
      },
      "outputs": [
        {
          "output_type": "stream",
          "name": "stdout",
          "text": [
            "Digite um número inteiro positivo: 2\n",
            "Digite um número inteiro positivo: 4\n",
            "Digite um número inteiro positivo: 6\n",
            "Digite um número inteiro positivo: 8\n",
            "Digite um número inteiro positivo: 10\n",
            "Digite um número inteiro positivo: 1\n",
            "Digite um número inteiro positivo: 3\n",
            "Digite um número inteiro positivo: 5\n",
            "Digite um número inteiro positivo: 7\n",
            "Digite um número inteiro positivo: 11\n",
            "A soma dos números pares é:  30\n",
            "E a soma dos primos é:  28\n"
          ]
        }
      ],
      "source": [
        "soma_primos = 0\n",
        "soma_pares = 0\n",
        "for i in range(0,10):\n",
        "  num = int(input(\"Digite um número inteiro positivo: \"))\n",
        "  if num % 2 == 0:\n",
        "    soma_pares += num\n",
        "  if num <= 1:\n",
        "    eh_primo = False\n",
        "  else:\n",
        "    eh_primo = True\n",
        "    for c in range(2, num):\n",
        "      if num % c == 0:\n",
        "        eh_primo = False\n",
        "        break\n",
        "      else:\n",
        "        eh_primo = True\n",
        "    if eh_primo:\n",
        "      soma_primos += num\n",
        "print(\"A soma dos números pares é: \", soma_pares)\n",
        "print(\"E a soma dos primos é: \", soma_primos)"
      ]
    },
    {
      "cell_type": "markdown",
      "metadata": {
        "id": "vGGkp_R4sBlJ"
      },
      "source": [
        "### Questão 8\n",
        "\n",
        "Cada espectador de um cinema respondeu a um questionário no qual constava sua idade e um número representando sua opinião em relação ao filme:\n",
        "* 3 para ótimo\n",
        "* 2 para bom\n",
        "* 1 para regular\n",
        "\n",
        "Na célula abaixo, faça um programa que receba a idade e a opinião de 8 espectadores, calcule e mostre:\n",
        "* A média das idades das pessoas que responderam ótimo;\n",
        "* A quantidade de pessoas que responderam regular;\n",
        "* A percentagem de pessoas que responderam bom, entre todos os espectadores analisados."
      ]
    },
    {
      "cell_type": "code",
      "execution_count": null,
      "metadata": {
        "collapsed": true,
        "id": "EjqwH2lRsBlJ",
        "colab": {
          "base_uri": "https://localhost:8080/"
        },
        "outputId": "aaf74a00-ffe8-4385-a321-2a8061fdb3ce"
      },
      "outputs": [
        {
          "output_type": "stream",
          "name": "stdout",
          "text": [
            "Qual a sua idade?\n",
            "5\n",
            "\n",
            "Agora sobre o filme:\n",
            " - 3 se achou Ótimo.\n",
            " - 2 se achou Bom.\n",
            " - 1 se achou Regular.\n",
            "\n",
            "\n",
            "Qual sua opinião sobre o filme?\n",
            "3\n",
            "Qual a sua idade?\n",
            "15\n",
            "\n",
            "Agora sobre o filme:\n",
            " - 3 se achou Ótimo.\n",
            " - 2 se achou Bom.\n",
            " - 1 se achou Regular.\n",
            "\n",
            "\n",
            "Qual sua opinião sobre o filme?\n",
            "3\n",
            "Qual a sua idade?\n",
            "20\n",
            "\n",
            "Agora sobre o filme:\n",
            " - 3 se achou Ótimo.\n",
            " - 2 se achou Bom.\n",
            " - 1 se achou Regular.\n",
            "\n",
            "\n",
            "Qual sua opinião sobre o filme?\n",
            "3\n",
            "Qual a sua idade?\n",
            "45\n",
            "\n",
            "Agora sobre o filme:\n",
            " - 3 se achou Ótimo.\n",
            " - 2 se achou Bom.\n",
            " - 1 se achou Regular.\n",
            "\n",
            "\n",
            "Qual sua opinião sobre o filme?\n",
            "1\n",
            "Qual a sua idade?\n",
            "23\n",
            "\n",
            "Agora sobre o filme:\n",
            " - 3 se achou Ótimo.\n",
            " - 2 se achou Bom.\n",
            " - 1 se achou Regular.\n",
            "\n",
            "\n",
            "Qual sua opinião sobre o filme?\n",
            "1\n",
            "Qual a sua idade?\n",
            "12\n",
            "\n",
            "Agora sobre o filme:\n",
            " - 3 se achou Ótimo.\n",
            " - 2 se achou Bom.\n",
            " - 1 se achou Regular.\n",
            "\n",
            "\n",
            "Qual sua opinião sobre o filme?\n",
            "2\n",
            "Qual a sua idade?\n",
            "14\n",
            "\n",
            "Agora sobre o filme:\n",
            " - 3 se achou Ótimo.\n",
            " - 2 se achou Bom.\n",
            " - 1 se achou Regular.\n",
            "\n",
            "\n",
            "Qual sua opinião sobre o filme?\n",
            "2\n",
            "Qual a sua idade?\n",
            "17\n",
            "\n",
            "Agora sobre o filme:\n",
            " - 3 se achou Ótimo.\n",
            " - 2 se achou Bom.\n",
            " - 1 se achou Regular.\n",
            "\n",
            "\n",
            "Qual sua opinião sobre o filme?\n",
            "2\n",
            "\n",
            "A média das idades das pessoas que responderam Ótimo é: 13.333333333333334\n",
            "A quantidade de pessoas que responderam regular é: 2\n",
            "A porcentagem de pessoas que responderam bom entre todos os espectadores analisados é: 37.5%\n"
          ]
        }
      ],
      "source": [
        "regulares = 0\n",
        "bons = 0\n",
        "otimos = 0\n",
        "cont = 0\n",
        "for i in range(0, 8):\n",
        "  idade = int(input(\"Qual a sua idade?\\n\"))\n",
        "  print(\"\\nAgora sobre o filme:\")\n",
        "  print(\" - 3 se achou Ótimo.\")\n",
        "  print(\" - 2 se achou Bom.\")\n",
        "  print(\" - 1 se achou Regular.\\n\")\n",
        "  nota = int (input(\"\\nQual sua opinião sobre o filme?\\n\"))\n",
        "  if nota == 3:\n",
        "    otimos += idade\n",
        "    cont += 1\n",
        "  elif nota == 1:\n",
        "    regulares += 1\n",
        "  else:\n",
        "    bons += 1\n",
        "media = (otimos/cont)\n",
        "porcent = ((bons*100)/8)\n",
        "print(f\"\\nA média das idades das pessoas que responderam Ótimo é: {media}\")\n",
        "print(f\"A quantidade de pessoas que responderam regular é: {regulares}\")\n",
        "print(f\"A porcentagem de pessoas que responderam bom entre todos os espectadores analisados é: {porcent}%\")"
      ]
    },
    {
      "cell_type": "markdown",
      "metadata": {
        "id": "UhgJzwJGsBlK"
      },
      "source": [
        "### Questão 9\n",
        "\n",
        "Na célula abaixo, mostre quantas vezes aparece a letra `e` na string de nome `latim`."
      ]
    },
    {
      "cell_type": "code",
      "execution_count": null,
      "metadata": {
        "collapsed": true,
        "id": "s084MvZBsBlK",
        "colab": {
          "base_uri": "https://localhost:8080/",
          "height": 159
        },
        "outputId": "227d79ad-7951-4569-8a49-ea3f13aa9bf2"
      },
      "outputs": [
        {
          "output_type": "error",
          "ename": "TypeError",
          "evalue": "unsupported operand type(s) for +: 'int' and 'str'",
          "traceback": [
            "\u001b[0;31m---------------------------------------------------------------------------\u001b[0m",
            "\u001b[0;31mTypeError\u001b[0m                                 Traceback (most recent call last)",
            "\u001b[0;32m<ipython-input-9-2cbd84978bae>\u001b[0m in \u001b[0;36m<cell line: 2>\u001b[0;34m()\u001b[0m\n\u001b[1;32m      1\u001b[0m \u001b[0mlatim\u001b[0m \u001b[0;34m=\u001b[0m \u001b[0;34m\"Lorem ipsum dolor sit amet, consectetur adipiscing elit, sed do eiusmod tempor\"\u001b[0m\u001b[0;34m\u001b[0m\u001b[0;34m\u001b[0m\u001b[0m\n\u001b[0;32m----> 2\u001b[0;31m \u001b[0mprint\u001b[0m\u001b[0;34m(\u001b[0m\u001b[0;34m\"A letra e aparece\"\u001b[0m \u001b[0;34m+\u001b[0m\u001b[0;34m' '\u001b[0m\u001b[0;34m+\u001b[0m \u001b[0mstr\u001b[0m\u001b[0;34m(\u001b[0m\u001b[0mlatim\u001b[0m\u001b[0;34m.\u001b[0m\u001b[0mcount\u001b[0m\u001b[0;34m(\u001b[0m\u001b[0;34m'e'\u001b[0m\u001b[0;34m)\u001b[0m \u001b[0;34m+\u001b[0m\u001b[0;34m' '\u001b[0m\u001b[0;34m+\u001b[0m\u001b[0;34m\"vezes.\"\u001b[0m\u001b[0;34m)\u001b[0m\u001b[0;34m)\u001b[0m\u001b[0;34m\u001b[0m\u001b[0;34m\u001b[0m\u001b[0m\n\u001b[0m",
            "\u001b[0;31mTypeError\u001b[0m: unsupported operand type(s) for +: 'int' and 'str'"
          ]
        }
      ],
      "source": [
        "latim = \"Lorem ipsum dolor sit amet, consectetur adipiscing elit, sed do eiusmod tempor\"\n",
        "print(\"A letra e aparece\" +' '+ str(latim.count('e') +' '+\"vezes.\"))"
      ]
    },
    {
      "cell_type": "markdown",
      "metadata": {
        "id": "o93KtHHwsBlK"
      },
      "source": [
        "### Questão 10\n",
        "\n",
        "Na célula abaixo, peça para o usuário entrar com uma string, depois mostre a string codificada, trocando a letra `a` por um `4`, a letra `o` por um `*` e a letra `s` por `5`. Aceite caracteres maiúsculos e minúsculos e não utilize os métodos de strings `replace` ou `translate`.\n",
        "\n",
        "Exemplo de execução:\n",
        "\n",
        "```\n",
        "Digite uma string: Nada como um dia depois do outro.\n",
        "String codificada: N4d4 c*m* um di4 dep*i5 d* *utr*.\n",
        "```"
      ]
    },
    {
      "cell_type": "code",
      "execution_count": null,
      "metadata": {
        "collapsed": true,
        "id": "QxrZJrXysBlK",
        "colab": {
          "base_uri": "https://localhost:8080/"
        },
        "outputId": "7322ea83-1ad3-4f42-bf28-3086735b4285"
      },
      "outputs": [
        {
          "output_type": "stream",
          "name": "stdout",
          "text": [
            "Digite o seu texto:\n",
            "eu sou a lenda\n",
            "eu 5*u 4 lend4\n"
          ]
        }
      ],
      "source": [
        "codificador = ''\n",
        "texto = input(\"Digite o seu texto:\\n\")\n",
        "for caracter in texto:\n",
        "  if caracter == 'a' or caracter == 'A':\n",
        "    codificador += '4'\n",
        "  elif caracter == 'o' or caracter == 'O':\n",
        "    codificador += '*'\n",
        "  elif caracter == 's' or caracter == 'S':\n",
        "    codificador += '5'\n",
        "  else:\n",
        "    codificador += caracter\n",
        "print(codificador)"
      ]
    }
  ],
  "metadata": {
    "kernelspec": {
      "display_name": "Python 3",
      "language": "python",
      "name": "python3"
    },
    "language_info": {
      "codemirror_mode": {
        "name": "ipython",
        "version": 3
      },
      "file_extension": ".py",
      "mimetype": "text/x-python",
      "name": "python",
      "nbconvert_exporter": "python",
      "pygments_lexer": "ipython3",
      "version": "3.5.2"
    },
    "colab": {
      "provenance": [],
      "include_colab_link": true
    }
  },
  "nbformat": 4,
  "nbformat_minor": 0
}