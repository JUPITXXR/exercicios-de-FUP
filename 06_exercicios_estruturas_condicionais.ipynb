{
  "cells": [
    {
      "cell_type": "markdown",
      "metadata": {
        "id": "view-in-github",
        "colab_type": "text"
      },
      "source": [
        "<a href=\"https://colab.research.google.com/github/JUPITXXR/exercicios-de-FUP/blob/main/06_exercicios_estruturas_condicionais.ipynb\" target=\"_parent\"><img src=\"https://colab.research.google.com/assets/colab-badge.svg\" alt=\"Open In Colab\"/></a>"
      ]
    },
    {
      "cell_type": "markdown",
      "metadata": {
        "id": "Xxl02n6lG7_W"
      },
      "source": [
        "# Exercícios sobre Estrutura Condicional\n",
        "\n",
        "> Antes de iniciar qualquer notebook, é importante que você limpe as saídas de todas as células para que você só veja o resultado de uma célula quando executá-la. Para isso, utilize o menu **Editar > Limpar todas as saídas**.\n",
        "\n",
        "## Requisitos\n",
        "\n",
        "Certifique-se de que você concluiu os seguintes notebooks:\n",
        "* [Introdução ao Python](01-intro.ipynb)\n",
        "* [Introdução à sintaxe de Python](02-sintaxe.ipynb)\n",
        "* [Strings, saída e entrada de dados e a biblioteca math](03-strings.ipynb)\n",
        "* [Exercícios sobre Estrutura Sequencial](04-exercicios.ipynb)\n",
        "* [Estrutura condicional](05-condicoes-fluxo-controle.ipynb)\n",
        "\n",
        "## Exercícios\n",
        "\n",
        "### Questão 1\n",
        "\n",
        "Faça um programa que receba dois números e mostre o maior deles.\n"
      ]
    },
    {
      "cell_type": "code",
      "execution_count": null,
      "metadata": {
        "collapsed": true,
        "id": "HM-UsCBVG7_X",
        "colab": {
          "base_uri": "https://localhost:8080/"
        },
        "outputId": "3a87b074-4e9b-4eff-accb-e0c56c394789"
      },
      "outputs": [
        {
          "output_type": "stream",
          "name": "stdout",
          "text": [
            "Digite um número: 3\n",
            "Digite outro número: 3\n",
            "O maior número é  3.0\n"
          ]
        }
      ],
      "source": [
        "n1 = float(input(\"Digite um número: \"))\n",
        "n2 = float(input(\"Digite outro número: \"))\n",
        "\n",
        "if n1>n2 :\n",
        "  print(\"O maior número é \", n1)\n",
        "else : print(\"O maior número é \", n2)"
      ]
    },
    {
      "cell_type": "markdown",
      "metadata": {
        "id": "FupU7jRbG7_X"
      },
      "source": [
        "### Questão 2\n",
        "\n",
        "Modifique o programa da célula abaixo, de modo que se a média for maior ou igual a 4 e menor que 7, diga que o aluno está de AF e peça a nota da AF, calcule a nova média e mostre o resultado do aluno (aprovado, para média maior ou igual a 5, ou reprovado caso contrário)."
      ]
    },
    {
      "cell_type": "code",
      "execution_count": null,
      "metadata": {
        "collapsed": true,
        "id": "l1q6FR5AG7_X",
        "colab": {
          "base_uri": "https://localhost:8080/"
        },
        "outputId": "ed475bf6-b58b-4d7a-e3f5-f2ae312b8fa9"
      },
      "outputs": [
        {
          "output_type": "stream",
          "name": "stdout",
          "text": [
            "Entre com a nota 1: 10\n",
            "Entre com a nota 2: 10\n",
            "A média é:  10.0\n",
            "Aprovado\n"
          ]
        }
      ],
      "source": [
        "n1 = float(input(\"Entre com a nota 1: \"))\n",
        "n2 = float(input(\"Entre com a nota 2: \"))\n",
        "media = (n1 + n2)/2\n",
        "print(\"A média é: \", media)\n",
        "if media >= 4 and media < 7:\n",
        "    print(\"Você está de AF./n\")\n",
        "    AF = float(input(\"Digite a nota da AF:\"))\n",
        "    mediaAF = (media + AF) / 2\n",
        "    if mediaAF >= 5:\n",
        "        print(\"Aprovado\\nSua média foi:\", mediaAF)\n",
        "    else : print(\"Reprovado\\nSua média foi:\", mediaAF)\n",
        "elif media >= 7:\n",
        "    print(\"Aprovado\")\n",
        "else:\n",
        "    print(\"Reprovado\")"
      ]
    },
    {
      "cell_type": "markdown",
      "metadata": {
        "id": "U5oc0PI1G7_X"
      },
      "source": [
        "### Questão 3\n",
        "\n",
        "Faça um programa que receba as três notas, calcule e mostre a média ponderada e o conceito que segue a tabela:\n",
        "\n",
        "|           Nota          | Peso |\n",
        "|:-----------------------:|:----:|\n",
        "| Trabalho de laboratório |   2  |\n",
        "|   Avaliação semestral   |   3  |\n",
        "|       Exame Final       |   5  |\n",
        "\n",
        "A nota final de um estudante é calculada a partir de três notas atribuídas e os respectivos pesos conforme a tabela abaixo:\n",
        "\n",
        "|      Média Ponderada    | Conceito |\n",
        "|-------------------------|:--------:|\n",
        "|$8.0\\bullet-\\bullet10.0$ |     A    |\n",
        "|$7.0\\bullet-\\circ8.0$    |     B    |\n",
        "|$6.0\\bullet-\\circ7.0$    |     C    |\n",
        "|$5.0\\bullet-\\circ6.0$    |     D    |\n",
        "|$0.0\\bullet-\\circ5.0$    |     E    |\n"
      ]
    },
    {
      "cell_type": "code",
      "execution_count": null,
      "metadata": {
        "collapsed": true,
        "id": "E-p1FmG4G7_X",
        "colab": {
          "base_uri": "https://localhost:8080/"
        },
        "outputId": "06f126bb-7f14-4813-cbef-d1e1b6befc76"
      },
      "outputs": [
        {
          "output_type": "stream",
          "name": "stdout",
          "text": [
            "Entre com a nota do Trabalho de laboratório: 7\n",
            "Entre com a nota da Avaliação semestral: 7\n",
            "Entre com a nota do Exame Final: 8.7\n",
            "A média é:  7.85\n",
            "Sua mmédia é conceito B.\n"
          ]
        }
      ],
      "source": [
        "trab = float(input(\"Entre com a nota do Trabalho de laboratório: \"))\n",
        "av = float(input(\"Entre com a nota da Avaliação semestral: \"))\n",
        "exam = float(input(\"Entre com a nota do Exame Final: \"))\n",
        "mediaPond = ((trab*2) + (av*3) + (exam*5))/10\n",
        "print(\"A média é: \", mediaPond)\n",
        "if mediaPond >= 8 :\n",
        "  print(\"Sua mmédia é conceito A.\")\n",
        "if mediaPond >= 7 and mediaPond < 8 :\n",
        "  print(\"Sua mmédia é conceito B.\")\n",
        "if mediaPond >= 6 and mediaPond < 7 :\n",
        "  print(\"Sua mmédia é conceito C.\")\n",
        "if mediaPond >= 5 and mediaPond < 6 :\n",
        "  print(\"Sua mmédia é conceito D.\")\n",
        "if mediaPond < 5 :\n",
        "  print(\"Sua mmédia é conceito E.\")"
      ]
    },
    {
      "cell_type": "markdown",
      "metadata": {
        "id": "TyFE7eJfG7_Y"
      },
      "source": [
        "### Questão 4\n",
        "Na céĺula abaixo, faça um programa que receba três números e mostre-os em ordem crescente. Suponha que o usuário irá digitar três números diferentes."
      ]
    },
    {
      "cell_type": "code",
      "execution_count": null,
      "metadata": {
        "collapsed": true,
        "id": "uJPlkvMQG7_Y",
        "colab": {
          "base_uri": "https://localhost:8080/"
        },
        "outputId": "9e850a40-1982-4737-c1d6-2f602c4b787a"
      },
      "outputs": [
        {
          "output_type": "stream",
          "name": "stdout",
          "text": [
            "Digite o primeiro número: 2\n",
            "Digite o segundo número: 1\n",
            "Digite o terceiro número: 3\n",
            "A ordem crescente dos números é: 1.0 2.0 3.0\n"
          ]
        }
      ],
      "source": [
        "n1 = float(input(\"Digite o primeiro número: \"))\n",
        "n2 = float(input(\"Digite o segundo número: \"))\n",
        "n3 = float(input(\"Digite o terceiro número: \"))\n",
        "\n",
        "if n1 > n2 and n2 > n3:\n",
        "  print(\"A ordem crescente dos números é:\", n3, n2, n1)\n",
        "elif n1 > n3 and n3 > n2:\n",
        "  print(\"A ordem crescente dos números é:\", n2, n3, n1)\n",
        "elif n2 > n1 and n1 > n3:\n",
        "  print(\"A ordem crescente dos números é:\", n3, n1, n2)\n",
        "elif n2 > n3 and n3 > n1:\n",
        "  print(\"A ordem crescente dos números é:\", n1, n3, n2)\n",
        "elif n3 > n1 and n1 > n2:\n",
        "  print(\"A ordem crescente dos números é:\", n2, n1, n3)\n",
        "elif n3 > n2 and n2 > n1:\n",
        "  print(\"A ordem crescente dos números é:\", n1, n2, n3)"
      ]
    },
    {
      "cell_type": "markdown",
      "metadata": {
        "id": "oBIYmqXfG7_Y"
      },
      "source": [
        "### Questão 5\n",
        "Na célula abaixo, peça um número inteiro para o usuário. Diga se ele é par ou ímpar."
      ]
    },
    {
      "cell_type": "code",
      "execution_count": null,
      "metadata": {
        "collapsed": true,
        "id": "r1FflmWNG7_Y",
        "colab": {
          "base_uri": "https://localhost:8080/"
        },
        "outputId": "6422d905-1b44-4631-d4b3-a20f0bf42f9c"
      },
      "outputs": [
        {
          "output_type": "stream",
          "name": "stdout",
          "text": [
            "Digite um número para saber se é par ou ímpar: 57\n",
            "57 É um número ímpar\n"
          ]
        }
      ],
      "source": [
        "n = int(input(\"Digite um número inteiro, para saber se é par ou ímpar: \"))\n",
        "if n % 2 == 0 :\n",
        "  print(n, \"É um número par.\")\n",
        "else : print(n, \"É um número ímpar\")"
      ]
    },
    {
      "cell_type": "markdown",
      "metadata": {
        "id": "qccLVNz4G7_Y"
      },
      "source": [
        "### Questão 6\n",
        "Na célula abaixo, escreva um programa que pede para o usuário entrar com um ano. Diga se o ano é bissexto ou não.\n",
        "\n",
        "Por exemplo:\n",
        "```\n",
        "Digite o ano: 2016\n",
        "2016 é bissexto.\n",
        "```\n",
        "\n",
        "Outro exemplo:\n",
        "\n",
        "```\n",
        "Digite o ano: 2002\n",
        "2002 não é bissexto.\n",
        "```\n",
        "\n",
        "> **Observação: O ano bissexto ocorre a cada quatro anos (exceto anos múltiplos de 100 que não são múltiplos de 400).**"
      ]
    },
    {
      "cell_type": "code",
      "execution_count": null,
      "metadata": {
        "collapsed": true,
        "id": "0RqOFkXUG7_Y",
        "colab": {
          "base_uri": "https://localhost:8080/"
        },
        "outputId": "3a8b2917-53b5-4d87-e2c2-7c51913e9706"
      },
      "outputs": [
        {
          "output_type": "stream",
          "name": "stdout",
          "text": [
            "Digite um ano, para saber se é ou não um ano bissexto.\n",
            "56\n",
            "56 É um ano bissexto.\n"
          ]
        }
      ],
      "source": [
        "ano = int(input(\"Digite um ano, para saber se é ou não um ano bissexto.\\n\"))\n",
        "if (ano % 100 != 0) and (ano % 4 == 0) or ano % 400 == 0:\n",
        "  print(ano, \"É um ano bissexto.\")\n",
        "else : print(ano, \"Não é um ano bisexto\")"
      ]
    },
    {
      "cell_type": "markdown",
      "metadata": {
        "id": "4mLUJleTG7_Y"
      },
      "source": [
        "### Questão 7\n",
        "Na célula abaixo, escreva um programa que pede para o usuário entrar com uma letra representando um nucleotídeo (A, C, T ou G) e mostre o complemento dele. O seu programa deve aceitar maiúsculas ou minúsculas. Se o usuário entrar com uma letra inválida, mostre uma mensagem de erro. **Nota**! Considerando as propriedades do DNA, A pode apenas fazer par com T, e G pode apenas fazer par com C."
      ]
    },
    {
      "cell_type": "code",
      "execution_count": null,
      "metadata": {
        "collapsed": true,
        "id": "CyWsjK80G7_Y",
        "colab": {
          "base_uri": "https://localhost:8080/"
        },
        "outputId": "b5359066-6fdf-41c4-f0e6-ddf4cf27211f"
      },
      "outputs": [
        {
          "output_type": "stream",
          "name": "stdout",
          "text": [
            "Digite uma letra que representa um nucleotídeo:\n",
            "f\n",
            "Letra inválida!!\n"
          ]
        }
      ],
      "source": [
        "letra = str(input(\"Digite uma letra que representa um nucleotídeo:\\n\")).upper()\n",
        "if letra == 'A':\n",
        "  print(\"Seu complemento é\", letra,\"- T\")\n",
        "elif letra == 'C':\n",
        "  print(\"Seu complemento é\", letra,\"- G\")\n",
        "elif letra == 'T':\n",
        "  print(\"Seu complemento é\", letra,\"- A\")\n",
        "elif letra == 'G':\n",
        "  print(\"Seu complemento é\", letra,\"- C\")\n",
        "else : print(\"Letra inválida!!\")"
      ]
    },
    {
      "cell_type": "markdown",
      "metadata": {
        "id": "nsgvhi1PG7_Y"
      },
      "source": [
        "Ao terminar, você já pode ir para o próximo notebook: [Estrutura de Repetição while](07-while.ipynb)."
      ]
    }
  ],
  "metadata": {
    "kernelspec": {
      "display_name": "Python 3",
      "language": "python",
      "name": "python3"
    },
    "language_info": {
      "codemirror_mode": {
        "name": "ipython",
        "version": 3
      },
      "file_extension": ".py",
      "mimetype": "text/x-python",
      "name": "python",
      "nbconvert_exporter": "python",
      "pygments_lexer": "ipython3",
      "version": "3.5.2"
    },
    "colab": {
      "provenance": [],
      "include_colab_link": true
    }
  },
  "nbformat": 4,
  "nbformat_minor": 0
}