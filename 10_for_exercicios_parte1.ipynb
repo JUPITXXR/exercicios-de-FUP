{
  "cells": [
    {
      "cell_type": "markdown",
      "metadata": {
        "id": "view-in-github",
        "colab_type": "text"
      },
      "source": [
        "<a href=\"https://colab.research.google.com/github/JUPITXXR/exercicios-de-FUP/blob/main/10_for_exercicios_parte1.ipynb\" target=\"_parent\"><img src=\"https://colab.research.google.com/assets/colab-badge.svg\" alt=\"Open In Colab\"/></a>"
      ]
    },
    {
      "cell_type": "markdown",
      "source": [],
      "metadata": {
        "id": "35DUOFMibFGE"
      }
    },
    {
      "cell_type": "markdown",
      "metadata": {
        "id": "qqGNwU11Ya-Y"
      },
      "source": [
        "# Exercícios sobre o comando for\n",
        "Vamos praticar um pouco mais com o comando `for` com strings e a função `range`.\n",
        "\n",
        "## Relembrando o comando for\n",
        "\n",
        "De modo geral, podemos dizer que existem duas maneiras de se usar o comando for.\n",
        "\n",
        "### Primeiro modo\n",
        "\n",
        "O primeiro modo é usado quando estamos interessados apenas nos elementos da string (ou lista), sem precisar saber o índice desses elementos:\n",
        "```python\n",
        "for variavel in minha_string_ou_lista :\n",
        "  # faça alguma coisa com variavel\n",
        "```  \n",
        "\n",
        "#### Exemplos\n",
        "\n",
        "Percorrer toda uma string, mostrando um caractere por vez:"
      ]
    },
    {
      "cell_type": "code",
      "execution_count": null,
      "metadata": {
        "id": "VHnT-YY_Ya-Z",
        "colab": {
          "base_uri": "https://localhost:8080/"
        },
        "outputId": "b8bf47dc-d34a-43cf-d4eb-779cea6e34ee"
      },
      "outputs": [
        {
          "output_type": "stream",
          "name": "stdout",
          "text": [
            "M\n",
            "i\n",
            "n\n",
            "h\n",
            "a\n",
            " \n",
            "s\n",
            "t\n",
            "r\n",
            "i\n",
            "n\n",
            "g\n"
          ]
        }
      ],
      "source": [
        "frase = \"Minha string\"\n",
        "for letra in frase: # letra agora corresponde a cada caractere em frase\n",
        "    print(letra) # posso fazer coisas com letra"
      ]
    },
    {
      "cell_type": "markdown",
      "metadata": {
        "id": "8sWPutC-Ya-Z"
      },
      "source": [
        "Veja que podemos usar qualquer nome para variável:"
      ]
    },
    {
      "cell_type": "code",
      "execution_count": null,
      "metadata": {
        "id": "vuNsB1NFYa-a",
        "colab": {
          "base_uri": "https://localhost:8080/"
        },
        "outputId": "a29c2b85-24ae-4de5-8ad4-600426c256c1"
      },
      "outputs": [
        {
          "output_type": "stream",
          "name": "stdout",
          "text": [
            "M\n",
            "i\n",
            "n\n",
            "h\n",
            "a\n",
            " \n",
            "s\n",
            "t\n",
            "r\n",
            "i\n",
            "n\n",
            "g\n"
          ]
        }
      ],
      "source": [
        "frase = \"Minha string\"\n",
        "for c in frase: # c agora corresponde a cada caractere em frase\n",
        "    print(c) # posso fazer coisas com c"
      ]
    },
    {
      "cell_type": "markdown",
      "metadata": {
        "id": "04QTRFcBYa-a"
      },
      "source": [
        "Podemos verificar uma condição dentro do comando for. Por exemplo, ignorar espaços em branco:"
      ]
    },
    {
      "cell_type": "code",
      "execution_count": null,
      "metadata": {
        "id": "yMtqIMRSYa-a",
        "colab": {
          "base_uri": "https://localhost:8080/"
        },
        "outputId": "1642bdb3-bb6d-4e7f-89e9-a34c8c14d776"
      },
      "outputs": [
        {
          "output_type": "stream",
          "name": "stdout",
          "text": [
            "M\n",
            "i\n",
            "n\n",
            "h\n",
            "a\n",
            "s\n",
            "t\n",
            "r\n",
            "i\n",
            "n\n",
            "g\n"
          ]
        }
      ],
      "source": [
        "frase = \"Minha string\"\n",
        "for letra in frase:\n",
        "    if letra != \" \":\n",
        "        print(letra)"
      ]
    },
    {
      "cell_type": "markdown",
      "metadata": {
        "id": "Cr3ehHUnYa-a"
      },
      "source": [
        "### Segundo modo\n",
        "O segundo modo é usado quando precisamos percorrer os elementos da string (ou lista) usando as suas posições ou índices:\n",
        "```python\n",
        "for i in range(len(minha_string_ou_lista)):\n",
        "  # faça alguma coisa com i, inclusive acessar minha_string_ou_lista[i]\n",
        "```  \n",
        "#### Exemplos\n",
        "\n",
        "Percorrer toda uma string, mostrando um caractere por vez, mas usando o seu índice:"
      ]
    },
    {
      "cell_type": "code",
      "execution_count": null,
      "metadata": {
        "id": "Xx8PvdMmYa-a",
        "colab": {
          "base_uri": "https://localhost:8080/"
        },
        "outputId": "51535cf3-fdd6-4afa-9002-9276fd66867a"
      },
      "outputs": [
        {
          "output_type": "stream",
          "name": "stdout",
          "text": [
            "M\n",
            "i\n",
            "n\n",
            "h\n",
            "a\n",
            " \n",
            "s\n",
            "t\n",
            "r\n",
            "i\n",
            "n\n",
            "g\n"
          ]
        }
      ],
      "source": [
        "frase = \"Minha string\"\n",
        "for i in range(len(frase)):\n",
        "    print(frase[i])"
      ]
    },
    {
      "cell_type": "markdown",
      "metadata": {
        "id": "5MUIHNrDYa-a"
      },
      "source": [
        "Percorrer toda uma string, mostrando um caractere e o seu índice por vez:"
      ]
    },
    {
      "cell_type": "code",
      "execution_count": null,
      "metadata": {
        "id": "EquGcyNrYa-a",
        "colab": {
          "base_uri": "https://localhost:8080/"
        },
        "outputId": "386b478a-f4ad-4713-d556-7881c78fb37a"
      },
      "outputs": [
        {
          "output_type": "stream",
          "name": "stdout",
          "text": [
            "M 0\n",
            "i 1\n",
            "n 2\n",
            "h 3\n",
            "a 4\n",
            "  5\n",
            "s 6\n",
            "t 7\n",
            "r 8\n",
            "i 9\n",
            "n 10\n",
            "g 11\n"
          ]
        }
      ],
      "source": [
        "frase = \"Minha string\"\n",
        "for i in range(len(frase)):\n",
        "    print(frase[i],i)"
      ]
    },
    {
      "cell_type": "markdown",
      "metadata": {
        "id": "px6zHcCnYa-a"
      },
      "source": [
        "Assim como no modo anterior, também podemos usar qualquer nome de variável:"
      ]
    },
    {
      "cell_type": "code",
      "execution_count": null,
      "metadata": {
        "id": "3thDeQbhYa-b",
        "colab": {
          "base_uri": "https://localhost:8080/"
        },
        "outputId": "10244662-38e2-4b0c-9fcb-deda9afc39fe"
      },
      "outputs": [
        {
          "output_type": "stream",
          "name": "stdout",
          "text": [
            "M 0\n",
            "i 1\n",
            "n 2\n",
            "h 3\n",
            "a 4\n",
            "  5\n",
            "s 6\n",
            "t 7\n",
            "r 8\n",
            "i 9\n",
            "n 10\n",
            "g 11\n"
          ]
        }
      ],
      "source": [
        "frase = \"Minha string\"\n",
        "for posicao in range(len(frase)):\n",
        "    print(frase[posicao],posicao)"
      ]
    },
    {
      "cell_type": "markdown",
      "metadata": {
        "id": "1U753xsrYa-b"
      },
      "source": [
        "Também podemos percorrer a string de trás para frente:"
      ]
    },
    {
      "cell_type": "code",
      "execution_count": null,
      "metadata": {
        "id": "muU6zmjaYa-b",
        "colab": {
          "base_uri": "https://localhost:8080/"
        },
        "outputId": "2a1a6872-b85f-4902-db7f-4e1429f1189e"
      },
      "outputs": [
        {
          "output_type": "stream",
          "name": "stdout",
          "text": [
            "g\n",
            "n\n",
            "i\n",
            "r\n",
            "t\n",
            "s\n",
            " \n",
            "a\n",
            "h\n",
            "n\n",
            "i\n",
            "M\n"
          ]
        }
      ],
      "source": [
        "frase = \"Minha string\"\n",
        "indice_fim = len(frase)-1\n",
        "for i in range(indice_fim, -1, -1):\n",
        "    print(frase[i])"
      ]
    },
    {
      "cell_type": "markdown",
      "metadata": {
        "id": "ho8XZEdtYa-b"
      },
      "source": [
        "E também verificar condições. Vamos ignorar os espaços em branco:"
      ]
    },
    {
      "cell_type": "code",
      "execution_count": null,
      "metadata": {
        "id": "YCKSbB09Ya-b",
        "colab": {
          "base_uri": "https://localhost:8080/"
        },
        "outputId": "cf96d1a7-5411-4cbd-ab5b-48dc9f18e52e"
      },
      "outputs": [
        {
          "output_type": "stream",
          "name": "stdout",
          "text": [
            "M\n",
            "i\n",
            "n\n",
            "h\n",
            "a\n",
            "s\n",
            "t\n",
            "r\n",
            "i\n",
            "n\n",
            "g\n"
          ]
        }
      ],
      "source": [
        "frase = \"Minha string\"\n",
        "for i in range(len(frase)):\n",
        "    if frase[i] != \" \":\n",
        "        print(frase[i])"
      ]
    },
    {
      "cell_type": "markdown",
      "metadata": {
        "id": "aEv1V83LYa-b"
      },
      "source": [
        "## Exercícios"
      ]
    },
    {
      "cell_type": "markdown",
      "metadata": {
        "id": "q3gacJqGYa-b"
      },
      "source": [
        "Na célula abaixo, percorra a string `mensagem1` e mostre cada um de seus caracteres."
      ]
    },
    {
      "cell_type": "code",
      "execution_count": null,
      "metadata": {
        "collapsed": true,
        "id": "bxSXdw5KYa-b",
        "colab": {
          "base_uri": "https://localhost:8080/"
        },
        "outputId": "95320f49-3a80-4667-ca49-78049c53f3ea"
      },
      "outputs": [
        {
          "output_type": "stream",
          "name": "stdout",
          "text": [
            "E\n",
            "s\n",
            "t\n",
            "o\n",
            "u\n",
            " \n",
            "a\n",
            "p\n",
            "r\n",
            "e\n",
            "n\n",
            "d\n",
            "e\n",
            "n\n",
            "d\n",
            "o\n",
            " \n",
            "P\n",
            "y\n",
            "t\n",
            "h\n",
            "o\n",
            "n\n",
            ".\n"
          ]
        }
      ],
      "source": [
        "mensagem1 = \"Estou aprendendo Python.\"\n",
        "for i in mensagem1:\n",
        "  print(i)"
      ]
    },
    {
      "cell_type": "markdown",
      "metadata": {
        "id": "coup-GmyYa-b"
      },
      "source": [
        "Na célula abaixo, percorra a string `mensagem2` e mostre cada um de seus caracteres, começando do final até o início."
      ]
    },
    {
      "cell_type": "code",
      "execution_count": null,
      "metadata": {
        "id": "gRGeBpC2Ya-b",
        "colab": {
          "base_uri": "https://localhost:8080/"
        },
        "outputId": "00c7631d-e05b-4836-c325-1fa0ccc362cc"
      },
      "outputs": [
        {
          "output_type": "stream",
          "name": "stdout",
          "text": [
            "P\n",
            "y\n",
            "t\n",
            "h\n",
            "o\n",
            "n\n",
            " \n",
            "é\n",
            " \n",
            "m\n",
            "a\n",
            "i\n",
            "s\n",
            " \n",
            "f\n",
            "á\n",
            "c\n",
            "i\n",
            "l\n",
            " \n",
            "d\n",
            "o\n",
            " \n",
            "q\n",
            "u\n",
            "e\n",
            " \n",
            "C\n",
            ".\n"
          ]
        }
      ],
      "source": [
        "mensagem2 = \".C euq od licáf siam é nohtyP\"\n",
        "fim = len(mensagem2)-1\n",
        "for i in range(fim, -1, -1):\n",
        "  print(mensagem2[i])"
      ]
    },
    {
      "cell_type": "markdown",
      "metadata": {
        "id": "niRAeSITYa-b"
      },
      "source": [
        "Mostre todos os números que são divisíveis por 9 e por 2 ao mesmo tempo no intervalo de 0 a 100."
      ]
    },
    {
      "cell_type": "code",
      "execution_count": null,
      "metadata": {
        "collapsed": true,
        "id": "2ZvpeZ3DYa-b",
        "colab": {
          "base_uri": "https://localhost:8080/"
        },
        "outputId": "9516efd7-98cc-45d2-84f7-2f1d20f4ce6e"
      },
      "outputs": [
        {
          "output_type": "stream",
          "name": "stdout",
          "text": [
            "0\n",
            "18\n",
            "36\n",
            "54\n",
            "72\n",
            "90\n"
          ]
        }
      ],
      "source": [
        "for i in range(0, 101, 1):\n",
        "  if i % 2 == 0 and i % 9 == 0:\n",
        "    print(i)"
      ]
    },
    {
      "cell_type": "markdown",
      "metadata": {
        "id": "UcAqcdpkYa-c"
      },
      "source": [
        "Na célula abaixo, percorra a string `mensagem3`, mostre cada um de seus caracteres, mas toda vez que encontrar a letra `a`, mostre um `4` e se encontrar a letra `o`, mostre um `*`."
      ]
    },
    {
      "cell_type": "code",
      "execution_count": null,
      "metadata": {
        "collapsed": true,
        "id": "3oOcYJESYa-c",
        "colab": {
          "base_uri": "https://localhost:8080/"
        },
        "outputId": "c5f3b2ef-8ca5-4eaf-913a-f7fdbf1cbd44"
      },
      "outputs": [
        {
          "output_type": "stream",
          "name": "stdout",
          "text": [
            "N\n",
            "4\n",
            "d\n",
            "4\n",
            " \n",
            "c\n",
            "*\n",
            "m\n",
            "*\n",
            " \n",
            "u\n",
            "m\n",
            " \n",
            "d\n",
            "i\n",
            "4\n",
            " \n",
            "d\n",
            "e\n",
            "p\n",
            "*\n",
            "i\n",
            "s\n",
            " \n",
            "d\n",
            "*\n",
            " \n",
            "*\n",
            "u\n",
            "t\n",
            "r\n",
            "*\n"
          ]
        }
      ],
      "source": [
        "mensagem3 = \"Nada como um dia depois do outro\"\n",
        "for i in mensagem3:\n",
        "  if i == 'a':\n",
        "    i = '4'\n",
        "  elif i == 'o':\n",
        "    i = '*'\n",
        "  print(i)"
      ]
    },
    {
      "cell_type": "markdown",
      "metadata": {
        "id": "wvmQpZ82Ya-c"
      },
      "source": [
        "Faça o mesmo exercício anterior, mas em vez de mostrar cada caractere na tela, adicione (concatene) os caracteres a outra string `mensagem_trocada`. Ao final mostre o conteúdo de `mensagem_trocada` de uma vez."
      ]
    },
    {
      "cell_type": "code",
      "execution_count": null,
      "metadata": {
        "collapsed": true,
        "id": "DnCdjvOFYa-c",
        "colab": {
          "base_uri": "https://localhost:8080/"
        },
        "outputId": "7fc4e5b8-0776-4b5f-8c05-1dd45fec4096"
      },
      "outputs": [
        {
          "output_type": "stream",
          "name": "stdout",
          "text": [
            "N4d4 c*m* um di4 dep*is d* *utr*\n"
          ]
        }
      ],
      "source": [
        "mensagem3 = \"Nada como um dia depois do outro\"\n",
        "mensagem_trocada = \"\"\n",
        "for i in mensagem3:\n",
        "  if i == 'a':\n",
        "    mensagem_trocada += '4'\n",
        "  elif i == 'o':\n",
        "    mensagem_trocada += '*'\n",
        "  else:\n",
        "    mensagem_trocada += i\n",
        "print(mensagem_trocada)"
      ]
    },
    {
      "cell_type": "markdown",
      "metadata": {
        "id": "sY_7FdAPYa-c"
      },
      "source": [
        "Na célula abaixo, mostre quantas vezes aparece a letra `e` na string de nome `latim`."
      ]
    },
    {
      "cell_type": "code",
      "execution_count": null,
      "metadata": {
        "collapsed": true,
        "id": "5GkO2v0tYa-c",
        "colab": {
          "base_uri": "https://localhost:8080/"
        },
        "outputId": "048f1f32-ba2e-4eaa-f379-326696fc154a"
      },
      "outputs": [
        {
          "output_type": "stream",
          "name": "stdout",
          "text": [
            "O total de vezes que a letra 'e' aparece é: 8\n"
          ]
        }
      ],
      "source": [
        "latim = \"Lorem ipsum dolor sit amet, consectetur adipiscing elit, sed do eiusmod tempor\"\n",
        "cont = 0\n",
        "for i in latim:\n",
        "  if i == 'e':\n",
        "    cont += 1\n",
        "print(\"O total de vezes que a letra 'e' aparece é:\",cont)"
      ]
    },
    {
      "cell_type": "markdown",
      "metadata": {
        "id": "0iGOegzsYa-c"
      },
      "source": [
        "Ao terminar, você já pode ir para o próximo notebook: [Exercícios sobre o comando for](11-for-exercicios-parte2.ipynb)."
      ]
    }
  ],
  "metadata": {
    "kernelspec": {
      "display_name": "Python 3",
      "language": "python",
      "name": "python3"
    },
    "language_info": {
      "codemirror_mode": {
        "name": "ipython",
        "version": 3
      },
      "file_extension": ".py",
      "mimetype": "text/x-python",
      "name": "python",
      "nbconvert_exporter": "python",
      "pygments_lexer": "ipython3",
      "version": "3.5.2"
    },
    "colab": {
      "provenance": [],
      "include_colab_link": true
    }
  },
  "nbformat": 4,
  "nbformat_minor": 0
}