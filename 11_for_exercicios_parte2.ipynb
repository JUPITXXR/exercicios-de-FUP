{
  "cells": [
    {
      "cell_type": "markdown",
      "metadata": {
        "id": "view-in-github",
        "colab_type": "text"
      },
      "source": [
        "<a href=\"https://colab.research.google.com/github/JUPITXXR/exercicios-de-FUP/blob/main/11_for_exercicios_parte2.ipynb\" target=\"_parent\"><img src=\"https://colab.research.google.com/assets/colab-badge.svg\" alt=\"Open In Colab\"/></a>"
      ]
    },
    {
      "cell_type": "markdown",
      "metadata": {
        "id": "jtgboE63Yb3Y"
      },
      "source": [
        "# Exercícios sobre Estrutura de Repetição com for\n",
        "\n",
        "> Antes de iniciar qualquer notebook, é importante que você limpe as saídas de todas as células para que você só veja o resultado de uma célula quando executá-la. Para isso, utilize o menu **Editar > Limpar todas as saídas**.\n",
        "\n",
        "## Requisitos\n",
        "\n",
        "Certifique-se de que você concluiu os seguintes notebooks:\n",
        "* [Introdução ao Python](01-intro.ipynb)\n",
        "* [Introdução à sintaxe de Python](02-sintaxe.ipynb)\n",
        "* [Strings, saída e entrada de dados e a biblioteca math](03-strings.ipynb)\n",
        "* [Exercícios sobre Estrutura Sequencial](04-exercicios.ipynb)\n",
        "* [Estrutura condicional](05-condicoes-fluxo-controle.ipynb)\n",
        "* [O comando while](07-while.ipynb)\n",
        "* [Exercícios sobre o comando while](08-while-exercicios.ipynb)\n",
        "* [O comando for](09-for.ipynb)\n",
        "\n",
        "## Exercícios\n",
        "\n",
        "### Questão 1\n",
        "\n",
        "Na célula abaixo, escreva o programa em Python equivalente ao algoritmo escrito em pseudocódigo abaixo:\n",
        "\n",
        "```portugol\n",
        "algoritmo\n",
        "  declare CONT, i, num numérico\n",
        "  CONT ← 0 # inicialização da variável CONT com zero\n",
        "  para i ← 1 até 5 faça\n",
        "  início\n",
        "    escreva \"Digite um número: \"\n",
        "    leia num\n",
        "    se num % 2 == 0\n",
        "    então CONT ← CONT + 1 # aumentando em 1 o valor de CONT\n",
        "  fim\n",
        "  escreva \"Quantidade de números pares digitados: \", CONT\n",
        "fim.\n",
        "```"
      ]
    },
    {
      "cell_type": "code",
      "execution_count": null,
      "metadata": {
        "collapsed": true,
        "id": "Mcz87_gPYb3Z",
        "colab": {
          "base_uri": "https://localhost:8080/"
        },
        "outputId": "10579f85-b6fa-488e-fcc9-8f23aff2c21a"
      },
      "outputs": [
        {
          "output_type": "stream",
          "name": "stdout",
          "text": [
            "Digite um número:1\n",
            "Digite um número:2\n",
            "Digite um número:3\n",
            "Digite um número:4\n",
            "Digite um número:6\n",
            "Quantidade de número pares digitados 3\n"
          ]
        }
      ],
      "source": [
        "cont = 0\n",
        "for i in range(1, 6, 1):\n",
        "  num = int(input(\"Digite um número:\"))\n",
        "  if num % 2 == 0:\n",
        "    cont += 1\n",
        "print(\"Quantidade de número pares digitados\", cont)"
      ]
    },
    {
      "cell_type": "markdown",
      "metadata": {
        "id": "dgSXxCRVYb3a"
      },
      "source": [
        "### Questão 2\n",
        "\n",
        "Na célula abaixo, usando o comando `for`, peça para o usuário entrar com um número inteiro maior que zero e calcule o fatorial desse número."
      ]
    },
    {
      "cell_type": "code",
      "execution_count": null,
      "metadata": {
        "collapsed": true,
        "id": "kdT4R_Q4Yb3a",
        "colab": {
          "base_uri": "https://localhost:8080/"
        },
        "outputId": "c40bd4e9-c163-4b72-dfb3-b62747f85dee"
      },
      "outputs": [
        {
          "output_type": "stream",
          "name": "stdout",
          "text": [
            "Digite um numero inteiro positivo:0\n",
            "Numero invalido. Digite outro:5\n",
            "O fatorial de 5 é 120.\n"
          ]
        }
      ],
      "source": [
        "fat = 1\n",
        "num = int(input(\"Digite um numero inteiro positivo:\"))\n",
        "if num <= 0:\n",
        "  num = int(input(\"Numero invalido. Digite outro:\"))\n",
        "for i in range(num, 1, -1):\n",
        "  fat = fat * i\n",
        "print(f\"O fatorial de {num} é {fat}.\")"
      ]
    },
    {
      "cell_type": "markdown",
      "metadata": {
        "id": "k1krwH2kYb3a"
      },
      "source": [
        "### Questão 3\n",
        "\n",
        "Na célula abaixo, escreva um programa usando o comando `for` para pedir a entrada de cinco notas. Ao final, calcule e mostre a média aritmética."
      ]
    },
    {
      "cell_type": "code",
      "execution_count": null,
      "metadata": {
        "collapsed": true,
        "id": "FlI99Vd7Yb3b",
        "colab": {
          "base_uri": "https://localhost:8080/"
        },
        "outputId": "752125f1-0ad1-444a-c9f5-2da52a6f08ba"
      },
      "outputs": [
        {
          "output_type": "stream",
          "name": "stdout",
          "text": [
            "Digite a nota 1 do aluno:10\n",
            "Digite a nota 2 do aluno:9\n",
            "Digite a nota 3 do aluno:9.5\n",
            "Digite a nota 4 do aluno:8.5\n",
            "Digite a nota 5 do aluno:9\n",
            "A média do aluno foi 9.2\n"
          ]
        }
      ],
      "source": [
        "soma = 0\n",
        "for i in range(1, 6, 1):\n",
        "  if i < 6:\n",
        "    nota = float(input(f\"Digite a nota {i} do aluno:\"))\n",
        "    soma += nota\n",
        "print(f\"A média do aluno foi {soma/5}\")"
      ]
    },
    {
      "cell_type": "markdown",
      "metadata": {
        "id": "Uv3Z6hwMYb3b"
      },
      "source": [
        "### Questão 4\n",
        "\n",
        "Na célula abaixo, modifique o programa acima para além de mostrar a média aritmética, mostrar também quantas notas foram menores do que 7.0.\n"
      ]
    },
    {
      "cell_type": "code",
      "execution_count": null,
      "metadata": {
        "collapsed": true,
        "id": "HvDi2S68Yb3b",
        "colab": {
          "base_uri": "https://localhost:8080/"
        },
        "outputId": "3d79f223-2661-466c-a1be-7b389ff74658"
      },
      "outputs": [
        {
          "output_type": "stream",
          "name": "stdout",
          "text": [
            "Digite a nota 1 do aluno:10\n",
            "Digite a nota 2 do aluno:11\n",
            "Digite a nota 3 do aluno:9\n",
            "Digite a nota 4 do aluno:9\n",
            "Digite a nota 5 do aluno:6\n",
            "A média do aluno foi 9.0\n",
            "O aluno teve 1 notas abaixo de 7.\n"
          ]
        }
      ],
      "source": [
        "soma = 0\n",
        "cont = 0\n",
        "for i in range(1, 6, 1):\n",
        "  if i < 6:\n",
        "    nota = float(input(f\"Digite a nota {i} do aluno:\"))\n",
        "    soma += nota\n",
        "    if nota < 7:\n",
        "      cont += 1\n",
        "print(f\"A média do aluno foi {soma/5}\")\n",
        "print(f\"O aluno teve {cont} notas abaixo de 7.\")"
      ]
    },
    {
      "cell_type": "markdown",
      "metadata": {
        "id": "OF3YnnZ3Yb3b"
      },
      "source": [
        "### Questão 5\n",
        "\n",
        "Na célula abaixo, faça um programa que receba a idade de 8 pessoas, calcule e mostre baseado na tabela abaixo:\n",
        "\n",
        "| Faixa Etária | Idade            |\n",
        "|--------------|------------------|\n",
        "| 1a.          | Até 15 anos      |\n",
        "| 2a.          | De 16 a 30 anos  |\n",
        "| 3a.          | De 31 a 45 anos  |\n",
        "| 4a.          | De 46 a 60 anos  |\n",
        "| 5a.          | Acima de 60 anos |\n",
        "\n",
        "\n",
        "* a) A quantidade de pessoas em cada faixa etária;\n",
        "* b) A porcentagem de pessoas na primeira faixa etária com relação ao total de pessoas\n",
        "\n",
        "Um exemplo de saída desse programa é mostrado abaixo:\n",
        "\n",
        "```\n",
        "Pessoa 1, entre com a idade: 15\n",
        "Pessoa 2, entre com a idade: 23\n",
        "Pessoa 3, entre com a idade: 18\n",
        "Pessoa 4, entre com a idade: 38\n",
        "Pessoa 5, entre com a idade: 44\n",
        "Pessoa 6, entre com a idade: 12\n",
        "Pessoa 7, entre com a idade: 65\n",
        "Pessoa 8, entre com a idade: 21\n",
        "Quantidade de pessoas em cada faixa etária:\n",
        "  1 - Até 15 anos: 2\n",
        "  2 - De 16 a 30 anos: 3\n",
        "  3 - De 31 a 45 anos: 2\n",
        "  4 - De 46 a 60 anos: 0\n",
        "  5 - Acima de 60 anos: 1\n",
        "A porcentagem de pessoas na faixa etária 1 com relação ao total de pessoas: 25.0 %\n",
        "```"
      ]
    },
    {
      "cell_type": "code",
      "execution_count": null,
      "metadata": {
        "collapsed": true,
        "id": "JXkZBOhVYb3b",
        "colab": {
          "base_uri": "https://localhost:8080/"
        },
        "outputId": "9beaf2b0-b763-4cde-de4d-0112f6aa8484"
      },
      "outputs": [
        {
          "output_type": "stream",
          "name": "stdout",
          "text": [
            "Digite a idade da Pessoa 1: 1\n",
            "Digite a idade da Pessoa 2: 1\n",
            "Digite a idade da Pessoa 3: 1\n",
            "Digite a idade da Pessoa 4: 1\n",
            "Digite a idade da Pessoa 5: 1\n",
            "Digite a idade da Pessoa 6: 1\n",
            "Digite a idade da Pessoa 7: 1\n",
            "Digite a idade da Pessoa 8: 65\n",
            "Quantidade de pessoas em cada feixa etária:\n",
            " 1 - Até 15 anos: 7\n",
            " 2 - De 16 a 30 anos: 0\n",
            " 3 - De 32 a 45 anos: 0\n",
            " 4 - De 46 a 60 anos: 0\n",
            " 5 - Acima de 60 anos: 1\n",
            "A porcentagem de pessoas na faixa etária 1, com relação ao total de pessoas é: 87.5\n"
          ]
        }
      ],
      "source": [
        "f1 = 0\n",
        "f2 = 0\n",
        "f3 = 0\n",
        "f4 = 0\n",
        "f5 = 0\n",
        "for i in range(1, 9):\n",
        "  idade = int(input(f\"Digite a idade da Pessoa {i}: \"))\n",
        "  if idade <= 15:\n",
        "    f1 += 1\n",
        "  elif idade <= 30:\n",
        "    f2 += 1\n",
        "  elif idade <= 45:\n",
        "    f3 += 1\n",
        "  elif idade <= 60:\n",
        "    f4 += 1\n",
        "  else : f5 += 1\n",
        "print(\"Quantidade de pessoas em cada feixa etária:\")\n",
        "print(\" 1 - Até 15 anos:\", f1)\n",
        "print(\" 2 - De 16 a 30 anos:\", f2)\n",
        "print(\" 3 - De 32 a 45 anos:\", f3)\n",
        "print(\" 4 - De 46 a 60 anos:\", f4)\n",
        "print(\" 5 - Acima de 60 anos:\", f5)\n",
        "print(f\"A porcentagem de pessoas na faixa etária 1, com relação ao total de pessoas é: {(f1*100)/8}\")"
      ]
    },
    {
      "cell_type": "markdown",
      "metadata": {
        "id": "6p48Y7stYb3b"
      },
      "source": [
        "### Questão 6\n",
        "\n",
        "Na célula abaixo, escreva um programa que pede para o usuário entrar com uma string de nucleotídeos e ao final mostre a string de complementos.\n",
        "\n",
        "Veja um exemplo de saída do programa:\n",
        "\n",
        "```\n",
        "Digite a sua cadeia de nucleotídeos: ACTGCGA\n",
        "Resultado: TGACGCT\n",
        "```"
      ]
    },
    {
      "cell_type": "code",
      "execution_count": null,
      "metadata": {
        "collapsed": true,
        "id": "AWXJLHTZYb3b",
        "colab": {
          "base_uri": "https://localhost:8080/"
        },
        "outputId": "b436f06f-95b6-4405-ffac-98c59675ee1e"
      },
      "outputs": [
        {
          "output_type": "stream",
          "name": "stdout",
          "text": [
            "Digite a sua cadeia de nucleotídeos: a\n",
            "T\n"
          ]
        }
      ],
      "source": [
        "comp = \"\"\n",
        "cadeia = str(input(\"Digite a sua cadeia de nucleotídeos: \")).upper()\n",
        "for i in cadeia:\n",
        "  if i == 'A':\n",
        "    comp += 'T'\n",
        "  elif i == 'T':\n",
        "    comp += 'A'\n",
        "  elif i == 'C':\n",
        "    comp += 'G'\n",
        "  elif i == 'G':\n",
        "    comp += 'C'\n",
        "  else: comp += '-'\n",
        "print(comp)"
      ]
    },
    {
      "cell_type": "markdown",
      "metadata": {
        "id": "K5152ZCjYb3c"
      },
      "source": [
        "### Questão 7:\n",
        "\n",
        "Na célula abaixo, baseando-se no programa acima, escreva um programa que inverte a cadeia de nucleotídeos antes de computar os complementos.\n",
        "\n",
        "Veja um exemplo de saída do programa:\n",
        "\n",
        "```\n",
        "Digite a sua cadeia de nucleotídeos: ACTGCGA\n",
        "Resultado: TCGCAGT\n",
        "```\n"
      ]
    },
    {
      "cell_type": "code",
      "execution_count": null,
      "metadata": {
        "collapsed": true,
        "id": "S9FvVbA6Yb3c",
        "colab": {
          "base_uri": "https://localhost:8080/"
        },
        "outputId": "53c62beb-a5fd-418f-c453-0f69905cba12"
      },
      "outputs": [
        {
          "output_type": "stream",
          "name": "stdout",
          "text": [
            "Digite a sua cadeia de nucleotídeos: x\n",
            "-\n"
          ]
        }
      ],
      "source": [
        "comp = \"\"\n",
        "cadeia = str(input(\"Digite a sua cadeia de nucleotídeos: \")).upper()\n",
        "ind_fim = len(cadeia)-1\n",
        "for i in range(ind_fim, -1, -1):\n",
        "  if cadeia[i] == 'A':\n",
        "    comp += 'T'\n",
        "  elif cadeia[i] == 'T':\n",
        "    comp += 'A'\n",
        "  elif cadeia[i] == 'C':\n",
        "    comp += 'G'\n",
        "  elif cadeia[i] == 'G':\n",
        "    comp += 'C'\n",
        "  else: comp += '-'\n",
        "print(comp)"
      ]
    }
  ],
  "metadata": {
    "kernelspec": {
      "display_name": "Python 3",
      "language": "python",
      "name": "python3"
    },
    "language_info": {
      "codemirror_mode": {
        "name": "ipython",
        "version": 3
      },
      "file_extension": ".py",
      "mimetype": "text/x-python",
      "name": "python",
      "nbconvert_exporter": "python",
      "pygments_lexer": "ipython3",
      "version": "3.5.2"
    },
    "colab": {
      "provenance": [],
      "include_colab_link": true
    }
  },
  "nbformat": 4,
  "nbformat_minor": 0
}