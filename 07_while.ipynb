{
  "cells": [
    {
      "cell_type": "markdown",
      "metadata": {
        "id": "view-in-github",
        "colab_type": "text"
      },
      "source": [
        "<a href=\"https://colab.research.google.com/github/JUPITXXR/exercicios-de-FUP/blob/main/07_while.ipynb\" target=\"_parent\"><img src=\"https://colab.research.google.com/assets/colab-badge.svg\" alt=\"Open In Colab\"/></a>"
      ]
    },
    {
      "cell_type": "markdown",
      "metadata": {
        "id": "uEdJkdQpne3k"
      },
      "source": [
        "## O Comando while\n",
        "\n",
        "O comando `while` (que significa enquanto) é um tipo de estrutura de repetição em Python.\n",
        "\n",
        "Ele é muito útil quando precisamos repetir um trecho de código.\n",
        "\n",
        "O `while` é parecido com um comando `if`: ele vai executar o código dentro dele se determinada condição for verdadeira. A diferença é que o comando while continuará executando **enquanto** aquela condição for verdadeira.\n",
        "\n",
        "Normalmente ele tem a seguinte sintaxe:\n",
        "```python\n",
        "while condicao :\n",
        "  comandos\n",
        "```  \n",
        "\n",
        "Estruturas de repetição são também chamadas de **laço** ou **loop**.\n",
        "\n",
        "Exemplo de uso do comando `while`:"
      ]
    },
    {
      "cell_type": "code",
      "execution_count": null,
      "metadata": {
        "collapsed": true,
        "id": "vh_7cAKpne3l",
        "colab": {
          "base_uri": "https://localhost:8080/"
        },
        "outputId": "9223cfc7-a3ba-4048-d3be-f2e65257af7c"
      },
      "outputs": [
        {
          "output_type": "stream",
          "name": "stdout",
          "text": [
            "Olá, eu sou um laço while e cont é 0\n",
            "Olá, eu sou um laço while e cont é 1\n",
            "Olá, eu sou um laço while e cont é 2\n",
            "Olá, eu sou um laço while e cont é 3\n",
            "Olá, eu sou um laço while e cont é 4\n"
          ]
        }
      ],
      "source": [
        "cont = 0\n",
        "while cont < 5:\n",
        "  print(\"Olá, eu sou um laço while e cont é\", cont)\n",
        "  cont = cont + 1"
      ]
    },
    {
      "cell_type": "markdown",
      "metadata": {
        "id": "4KwAikU3ne3m"
      },
      "source": [
        "No exemplo acima, a linha 2 decide quando o loop será executado. Portanto, *enquanto cont for menor do 5*, o loop vai continuar a executar. A linha 4 aumenta cont em 1, isso acontece repetidamente até que cont seja igual a 5.\n",
        "\n",
        "## Operações Dentro do loop\n",
        "\n",
        "Dentro de um loop, você pode usar qualquer outro comando em Python, inclusive realizar operações aritméticas.\n",
        "\n",
        "Na célula abaixo, crie um laço com while que mostra todos os números de 1 a 10 elevados ao quadrado, cada qual na sua linha.\n",
        "\n",
        "Complete o comando de acordo com as instruções nos comentários."
      ]
    },
    {
      "cell_type": "code",
      "execution_count": null,
      "metadata": {
        "id": "OhRZoJiOne3m",
        "colab": {
          "base_uri": "https://localhost:8080/"
        },
        "outputId": "22c8efba-cf6c-4c1e-c2bf-b16181262117"
      },
      "outputs": [
        {
          "output_type": "stream",
          "name": "stdout",
          "text": [
            "1\n",
            "4\n",
            "9\n",
            "16\n",
            "25\n",
            "36\n",
            "49\n",
            "64\n",
            "81\n",
            "100\n"
          ]
        }
      ],
      "source": [
        "num = 1\n",
        "\n",
        "while num <= 10 :  # Substitua os _______ pela condição (os números vão de 1 a 10)\n",
        "    # mostre num elevado ao quadrado\n",
        "    print(num ** 2)\n",
        "    # Aumente num em 1 (não se esqueça de fazer isso antes de executar a célula)\n",
        "    num = num + 1"
      ]
    },
    {
      "cell_type": "markdown",
      "metadata": {
        "id": "YY_GZgxAne3n"
      },
      "source": [
        "## Detectando Entradas Inválidas\n",
        "\n",
        "Uma aplicação comum para o comando while é checar se entrada do usuário foi válida. Por exemplo, se você pedir ao usuário para digitar s ou n e ele digitar b, então você deve alertá-lo da entrada inválida e solicitar uma nova entrada.\n",
        "\n",
        "Complete o comando abaixo, tal que o usuário será solicitado de uma nova escolha repetidamente enquanto ele digitar valores diferentes de `'s'` ou `'n'`.\n"
      ]
    },
    {
      "cell_type": "code",
      "execution_count": null,
      "metadata": {
        "id": "s9Pt1kIfne3n",
        "colab": {
          "base_uri": "https://localhost:8080/"
        },
        "outputId": "902a8f7f-a6b0-4afc-86b7-b7722597ee6e"
      },
      "outputs": [
        {
          "name": "stdout",
          "output_type": "stream",
          "text": [
            "Você está gostando do curso? (s/n)c\n",
            "Desculpe, não entendi o que você digitou. Tente novamente: v\n",
            "Desculpe, não entendi o que você digitou. Tente novamente: n\n"
          ]
        }
      ],
      "source": [
        "escolha = input(\"Você está gostando do curso? (s/n)\").lower()\n",
        "\n",
        "while escolha != 's' and escolha != 'n':  # Complete com a condição (before the colon)\n",
        "    escolha = input(\"Desculpe, não entendi o que você digitou. Tente novamente: \")"
      ]
    },
    {
      "cell_type": "markdown",
      "metadata": {
        "id": "9IfgFcoIne3n"
      },
      "source": [
        "## Jogo Adivinhe o Número (nível *beginner*)\n",
        "\n",
        "Nós vamos fazer o computador \"pensar em um número de 1 a 10\" e o usuário deverá adivinhar esse número. O nosso programa deve pedir para o usuário adivinhar o número **enquanto ele não acertar**.\n",
        "\n",
        "Para calcular um número aleatório de 1 a 10, usaremos a biblioteca `random`. Para isso iremos importá-la com:\n",
        "\n",
        "```python\n",
        "import random\n",
        "```\n",
        "\n",
        "Depois iremos usar a função `randint(inicio,fim)` para gerar um número inteiro aleatório no intervalo fechado de inicio a fim. Por exemplo, para gerar um número entre 1 e 10:\n",
        "```python\n",
        "numero = random.randint(1,10)\n",
        "```\n",
        "\n",
        "Cada vez que você executar a célula abaixo, deverá ser mostrado um número diferente:"
      ]
    },
    {
      "cell_type": "code",
      "execution_count": null,
      "metadata": {
        "id": "YkIwX3nUne3o",
        "colab": {
          "base_uri": "https://localhost:8080/"
        },
        "outputId": "682e25d3-9d3d-4619-fe8b-e9914a67ff34"
      },
      "outputs": [
        {
          "output_type": "stream",
          "name": "stdout",
          "text": [
            "3\n"
          ]
        }
      ],
      "source": [
        "import random\n",
        "numero = random.randint(1,10)\n",
        "print(numero)"
      ]
    },
    {
      "cell_type": "code",
      "source": [
        "#Faça um programa que execute até que o usuário forneça, via teclado, um número inteiro positivo.\n",
        "num = int(input(\"Digite um número positivo:\"))\n",
        "while num <= 0:\n",
        "  print(\"Número inválido!\")\n",
        "  num = int(input(\"Digite um número positivo:\"))\n",
        "print(\"Definitivamente,\", num, \"é um número positivo\")"
      ],
      "metadata": {
        "colab": {
          "base_uri": "https://localhost:8080/"
        },
        "id": "HiI9vcfeh2x2",
        "outputId": "e5382a30-b94d-469a-f3f6-ccd937748815"
      },
      "execution_count": null,
      "outputs": [
        {
          "output_type": "stream",
          "name": "stdout",
          "text": [
            "Digite um número positivo:14515416871871521687154168718616541561\n",
            "Definitivamente, 14515416871871521687154168718616541561 é um número positivo\n"
          ]
        }
      ]
    },
    {
      "cell_type": "markdown",
      "metadata": {
        "id": "COQzwRZjne3o"
      },
      "source": [
        "Na célula abaixo, siga as seguintes instruções:\n",
        "\n",
        "1. Importe a biblioteca `random` e gere um número inteiro aleatório de 1 a 10 e guarde na variável chamada `segredo`.\n",
        "2. Dê as boas-vindas ao usuário e peça para ele tentar adivinhar o número e guarde o palpite dele na variável palpite.\n",
        "3. Inicie o laço do while. Enquanto o palpite do usuário for diferente do número secreto mostre a mensagem 'Palpite errado. Tente novamente.' E peça para o usuário digitar um novo palpite guardando na variável palpite.\n",
        "4. Se o programa sair do laço é porque o usuário acertou, então parabenize o usuário."
      ]
    },
    {
      "cell_type": "code",
      "execution_count": null,
      "metadata": {
        "collapsed": true,
        "id": "53ggonSGne3o",
        "colab": {
          "base_uri": "https://localhost:8080/"
        },
        "outputId": "914d0115-9c84-4431-c11e-5b7136994761"
      },
      "outputs": [
        {
          "output_type": "stream",
          "name": "stdout",
          "text": [
            "Bem Vindo(a), Agora iremos brincar de um jogo de Adivinha.\n",
            "\n",
            "Irei pensar em um nùmero de 1 a 10, e você tem que advinhar que número é esse.\n",
            "\n",
            "Preparado? Vamos lá...\n",
            "\n",
            "Em qual número estou pensando?5\n",
            "5 ? Não, não é nesse número que estou pensando...\n",
            "Vou te dar mais uma chance. Em qual número estou pensando?8\n",
            "Você acertou, Parabéns. 8 Foi o número que eu pensei.\n"
          ]
        }
      ],
      "source": [
        "# escreva o seu código aqui\n",
        "import random\n",
        "numero = random.randint(1,10)\n",
        "print(\"Bem Vindo(a), Agora iremos brincar de um jogo de Adivinha.\\n\")\n",
        "print(\"Irei pensar em um nùmero de 1 a 10, e você tem que advinhar que número é esse.\\n\")\n",
        "print(\"Preparado? Vamos lá...\\n\")\n",
        "n = int(input(\"Em qual número estou pensando?\"))\n",
        "\n",
        "while n != numero:\n",
        "  print(n,\"? Não, não é nesse número que estou pensando...\")\n",
        "  n = int(input(\"Vou te dar mais uma chance. Em qual número estou pensando?\"))\n",
        "print(\"Você acertou, Parabéns.\", n, \"Foi o número que eu pensei.\")"
      ]
    },
    {
      "cell_type": "markdown",
      "metadata": {
        "id": "NCin3xUjne3p"
      },
      "source": [
        "Ao terminar, você já pode ir para o próximo notebook: [Exercícios sobre Estrutura de Repetição com while](08-while-exercicios.ipynb)."
      ]
    }
  ],
  "metadata": {
    "kernelspec": {
      "display_name": "Python 3",
      "language": "python",
      "name": "python3"
    },
    "language_info": {
      "codemirror_mode": {
        "name": "ipython",
        "version": 3
      },
      "file_extension": ".py",
      "mimetype": "text/x-python",
      "name": "python",
      "nbconvert_exporter": "python",
      "pygments_lexer": "ipython3",
      "version": "3.5.2"
    },
    "colab": {
      "provenance": [],
      "include_colab_link": true
    }
  },
  "nbformat": 4,
  "nbformat_minor": 0
}