{
  "cells": [
    {
      "cell_type": "markdown",
      "metadata": {
        "id": "view-in-github",
        "colab_type": "text"
      },
      "source": [
        "<a href=\"https://colab.research.google.com/github/JUPITXXR/exercicios-de-FUP/blob/main/12_exercicios_strings.ipynb\" target=\"_parent\"><img src=\"https://colab.research.google.com/assets/colab-badge.svg\" alt=\"Open In Colab\"/></a>"
      ]
    },
    {
      "cell_type": "markdown",
      "metadata": {
        "id": "9OvEU8e6qlJQ"
      },
      "source": [
        "# Exercícios sobre Strings\n",
        "\n",
        "> Antes de iniciar qualquer notebook, é importante que você limpe as saídas de todas as células para que você só veja o resultado de uma célula quando executá-la. Para isso, utilize o menu **Editar > Limpar todas as saídas**.\n",
        "\n",
        "## Requisitos\n",
        "\n",
        "Certifique-se de que você concluiu os seguintes notebooks:\n",
        "* [Introdução ao Python](01-intro.ipynb)\n",
        "* [Introdução à sintaxe de Python](02-sintaxe.ipynb)\n",
        "* [Strings, saída e entrada de dados e a biblioteca math](03-strings.ipynb)\n",
        "* [Exercícios sobre Estrutura Sequencial](04-exercicios.ipynb)\n",
        "* [Estrutura condicional](05-condicoes-fluxo-controle.ipynb)\n",
        "* [O comando while](07-while.ipynb)\n",
        "* [Exercícios sobre o comando while](08-while-exercicios.ipynb)\n",
        "* [O comando for](09-for.ipynb)\n",
        "* [Exercícios sobre o comando for (Parte I)](10-for-exercicios-parte1.ipynb)\n",
        "* [Exercícios sobre o comando for (Parte II)](11-for-exercicios-parte2.ipynb)\n",
        "\n",
        "## Exercícios\n",
        "### Questão 1"
      ]
    },
    {
      "cell_type": "code",
      "source": [
        "#find e rfind retornam apenas a posição da primeira\n",
        "#ocorrência. Como fazer para mostrar as posições de\n",
        "#todas as ocorrências? Por exemplo, mostre as posições\n",
        "#de todas as ocorrências de 'AT' em nucl.\n",
        "\n",
        "nucl = 'ATATATccAT'\n",
        "start = -1\n",
        "loop = 0\n",
        "while loop != -1:\n",
        "  start = nucl.find('AT', start + 1)\n",
        "  loop = start\n",
        "  if loop == -1:\n",
        "    break\n",
        "  print(start)"
      ],
      "metadata": {
        "colab": {
          "base_uri": "https://localhost:8080/"
        },
        "id": "W1Tyc2D6LgjN",
        "outputId": "06bb75d3-53f4-436f-d3d7-9572eec28edd"
      },
      "execution_count": null,
      "outputs": [
        {
          "output_type": "stream",
          "name": "stdout",
          "text": [
            "0\n",
            "2\n",
            "4\n",
            "8\n"
          ]
        }
      ]
    },
    {
      "cell_type": "code",
      "execution_count": null,
      "metadata": {
        "collapsed": true,
        "id": "BZbBozzCqlJT"
      },
      "outputs": [],
      "source": [
        "s1 = 'ant'\n",
        "s2 = 'bat'\n",
        "s3 = 'cod'"
      ]
    },
    {
      "cell_type": "markdown",
      "metadata": {
        "id": "8VXvlnZtqlJT"
      },
      "source": [
        "Execute a célula acima. Depois em cada uma das células abaixo, escreva um comando print usando s1, s2 e s3 e os operadores + e * a fim de obter os seguintes resultados:\n",
        "\n",
        "`ant bat cod`"
      ]
    },
    {
      "cell_type": "code",
      "execution_count": null,
      "metadata": {
        "collapsed": true,
        "id": "NWsBmhMqqlJU",
        "colab": {
          "base_uri": "https://localhost:8080/"
        },
        "outputId": "9f081821-d6d6-4b56-986d-d0477dc65132"
      },
      "outputs": [
        {
          "output_type": "stream",
          "name": "stdout",
          "text": [
            "ant bat cod\n"
          ]
        }
      ],
      "source": [
        "s1 = 'ant '\n",
        "s2 = 'bat '\n",
        "s3 = 'cod'\n",
        "print(s1 + s2 + s3)"
      ]
    },
    {
      "cell_type": "markdown",
      "metadata": {
        "id": "zCwazgTwqlJU"
      },
      "source": [
        "`ant ant ant ant ant ant ant ant ant ant`"
      ]
    },
    {
      "cell_type": "code",
      "execution_count": null,
      "metadata": {
        "collapsed": true,
        "id": "CGL2oxy7qlJU",
        "colab": {
          "base_uri": "https://localhost:8080/"
        },
        "outputId": "097f5a59-bf16-4aaa-85a7-1fceb520fc4b"
      },
      "outputs": [
        {
          "output_type": "stream",
          "name": "stdout",
          "text": [
            "ant ant ant ant ant ant ant ant ant ant \n"
          ]
        }
      ],
      "source": [
        "s1 = 'ant '\n",
        "s2 = 'bat '\n",
        "s3 = 'cod '\n",
        "print(s1*10)"
      ]
    },
    {
      "cell_type": "markdown",
      "metadata": {
        "id": "qh96EAQ7qlJU"
      },
      "source": [
        "`ant bat bat cod cod cod`"
      ]
    },
    {
      "cell_type": "code",
      "execution_count": null,
      "metadata": {
        "collapsed": true,
        "id": "ipn-00bZqlJU",
        "colab": {
          "base_uri": "https://localhost:8080/"
        },
        "outputId": "21f18033-80b6-4def-ab6a-3f7a8f3be2b6"
      },
      "outputs": [
        {
          "output_type": "stream",
          "name": "stdout",
          "text": [
            "ant bat bat cod cod cod \n"
          ]
        }
      ],
      "source": [
        "s1 = 'ant '\n",
        "s2 = 'bat '\n",
        "s3 = 'cod '\n",
        "print(s1+(s2*2)+(s3*3))"
      ]
    },
    {
      "cell_type": "markdown",
      "metadata": {
        "id": "GiJ7X4F2qlJV"
      },
      "source": [
        "`ant bat ant bat ant bat ant bat ant bat ant bat ant bat`"
      ]
    },
    {
      "cell_type": "code",
      "execution_count": null,
      "metadata": {
        "collapsed": true,
        "id": "uqO82wDAqlJV",
        "colab": {
          "base_uri": "https://localhost:8080/"
        },
        "outputId": "d8223780-10c3-4d92-808b-de0da197e80f"
      },
      "outputs": [
        {
          "output_type": "stream",
          "name": "stdout",
          "text": [
            "ant bat ant bat ant bat ant bat ant bat ant bat ant bat \n"
          ]
        }
      ],
      "source": [
        "s1 = 'ant '\n",
        "s2 = 'bat '\n",
        "s3 = 'cod'\n",
        "print((s1+s2)*7)"
      ]
    },
    {
      "cell_type": "markdown",
      "metadata": {
        "id": "Uvnd_9F1qlJV"
      },
      "source": [
        "`batbatcod batbatcod batbatcod batbatcod batbatcod`"
      ]
    },
    {
      "cell_type": "code",
      "execution_count": null,
      "metadata": {
        "collapsed": true,
        "id": "1xNQ3flQqlJV",
        "colab": {
          "base_uri": "https://localhost:8080/"
        },
        "outputId": "b5dcd68f-1209-46c7-cc80-6f6af739b6e1"
      },
      "outputs": [
        {
          "output_type": "stream",
          "name": "stdout",
          "text": [
            "batbatcod batbatcod batbatcod batbatcod batbatcod \n"
          ]
        }
      ],
      "source": [
        "s1 = 'ant '\n",
        "s2 = 'bat'\n",
        "s3 = 'cod '\n",
        "print(((s2*2)+s3)*5)"
      ]
    },
    {
      "cell_type": "markdown",
      "metadata": {
        "id": "FE-kJ1A2qlJV"
      },
      "source": [
        "### Questão 2\n",
        "Escreva um programa que aceita uma string como entrada, conta e exibe o número de ocorrências de vogais na string.\n",
        "\n",
        "Por exemplo:\n",
        "```\n",
        "Digite uma string: Le Tour de France\n",
        "a, e, i, o, u aparecem, respectivamente, 1, 3, 0, 1, 1 vezes.\n",
        "```"
      ]
    },
    {
      "cell_type": "code",
      "source": [
        "\"a, e, i, o, u aparecem, respectivamente,\" + str(texto.count('a'))"
      ],
      "metadata": {
        "colab": {
          "base_uri": "https://localhost:8080/",
          "height": 35
        },
        "id": "XLSHe-7eLOmY",
        "outputId": "1316e0fa-26d5-4c1c-f665-2d677259d51a"
      },
      "execution_count": null,
      "outputs": [
        {
          "output_type": "execute_result",
          "data": {
            "text/plain": [
              "'a, e, i, o, u aparecem, respectivamente,1'"
            ],
            "application/vnd.google.colaboratory.intrinsic+json": {
              "type": "string"
            }
          },
          "metadata": {},
          "execution_count": 24
        }
      ]
    },
    {
      "cell_type": "code",
      "execution_count": null,
      "metadata": {
        "id": "4xsX6TP7qlJV",
        "colab": {
          "base_uri": "https://localhost:8080/"
        },
        "outputId": "6a009c90-0ea9-4974-a857-81722280c05a"
      },
      "outputs": [
        {
          "output_type": "stream",
          "name": "stdout",
          "text": [
            "Digite uma palavra ou frase: \n",
            "gjhgjghjkgcrtr\n",
            "a, e, i, o, u aparecem, respectivamente, 0, 0, 0, 0, 0 vezes.\n"
          ]
        }
      ],
      "source": [
        "texto=input(\"Digite uma palavra ou frase: \\n\").lower()\n",
        "print(\"a, e, i, o, u aparecem, respectivamente,\" +' '+ str(texto.count('a')) +', '+ str(texto.count('e')) +', '+ str(texto.count('i')) +', '+ str(texto.count('o')) +', '+ str(texto.count('u')) +' '+\"vezes.\")"
      ]
    },
    {
      "cell_type": "markdown",
      "metadata": {
        "id": "0GNTznGAqlJV"
      },
      "source": [
        "### Questão 3\n",
        "\n",
        "Na célula abaixo, escreva um programa que peça para o usuário digitar duas strings. Verifique se a segunda string ocorre dentro da primeira e mostre a posição de início.\n",
        "\n",
        "> Observação: Não diferencie maiúsculas e minúsculas.\n",
        "\n",
        "Exemplo:\n",
        "\n",
        "```\n",
        "Digite a primeira string: ASDFGHJKL\n",
        "Digite a segunda string: hj\n",
        "Resultado: hj encontrada na posição 5 de ASDFGHJKL\n",
        "```\n",
        "\n"
      ]
    },
    {
      "cell_type": "code",
      "execution_count": null,
      "metadata": {
        "collapsed": true,
        "id": "QRfhJsVaqlJV",
        "colab": {
          "base_uri": "https://localhost:8080/"
        },
        "outputId": "ab74850e-9cd5-40fe-ade4-0eb213d37286"
      },
      "outputs": [
        {
          "output_type": "stream",
          "name": "stdout",
          "text": [
            "Digite a primeira string: GUSTAVO\n",
            "Digite a segunda string: avo\n",
            "avo encontrada na posição 4 de gustavo\n"
          ]
        }
      ],
      "source": [
        "texto1=input(\"Digite a primeira string: \").lower()\n",
        "texto2=input(\"Digite a segunda string: \").lower()\n",
        "print(str(texto2) +\" encontrada na posição \" +str(texto1.find(texto2)) +\" de \" + str(texto1))"
      ]
    },
    {
      "cell_type": "markdown",
      "metadata": {
        "id": "DKXIBNHdqlJV"
      },
      "source": [
        "### Questão 4\n",
        "\n",
        "Um palíndromo é uma palavra ou qualquer sequência de caracteres que tenha a propriedade de ser lida tanto da esquerda para a direita como da direita para esquerda. Num palíndromo, normalmente são desconsiderados os sinais ortográficos, pontuação e espaços em branco.\n",
        "\n",
        "Por exemplo:\n",
        "\n",
        "**A cara rajada da jararaca** é um palíndromo.\n",
        "\n",
        "Na célula abaixo, escreva um programa que pede para o usuário digitar uma frase e diga se a frase é palíndroma ou não.\n",
        "\n",
        "Teste o seu programa com as seguintes frases:\n",
        "\n",
        "```\n",
        "A cara rajada da jararaca\n",
        "madam\n",
        "Madam, I'm Adam.\n",
        "Never odd or even\n",
        "Was it a car or a cat I saw?\n",
        "Doc, note: I dissent. A fast never prevents a fatness. I diet on cod.\n",
        "```"
      ]
    },
    {
      "cell_type": "code",
      "source": [
        "'´'.isalpha()"
      ],
      "metadata": {
        "colab": {
          "base_uri": "https://localhost:8080/"
        },
        "id": "l2IxcXowU9hN",
        "outputId": "9d2caf0d-e715-4a62-f764-ba10459b3e10"
      },
      "execution_count": null,
      "outputs": [
        {
          "output_type": "execute_result",
          "data": {
            "text/plain": [
              "False"
            ]
          },
          "metadata": {},
          "execution_count": 45
        }
      ]
    },
    {
      "cell_type": "code",
      "execution_count": null,
      "metadata": {
        "collapsed": true,
        "id": "0vRRi2bfqlJV",
        "colab": {
          "base_uri": "https://localhost:8080/"
        },
        "outputId": "46b660b4-91d7-40af-abea-ae6395bc0fdf"
      },
      "outputs": [
        {
          "output_type": "stream",
          "name": "stdout",
          "text": [
            "Digite uma palavra ou frase: arara\n",
            "É Palindroma!!\n"
          ]
        }
      ],
      "source": [
        "texto=input(\"Digite uma palavra ou frase: \").lower()\n",
        "texto_soh_letras = ''\n",
        "for caracter in texto:\n",
        "  if('a' <= caracter <= 'z'):\n",
        "    texto_soh_letras += caracter\n",
        "texto_invertido = texto_soh_letras[::-1]\n",
        "if(texto_soh_letras == texto_invertido):\n",
        "  print(\"É Palindroma!!\")\n",
        "else: print(\"Não é Palindroma.\")"
      ]
    },
    {
      "cell_type": "markdown",
      "metadata": {
        "id": "mlHu7VDqqlJW"
      },
      "source": [
        "### Questão 5\n",
        "\n",
        "Na última aula em laboratório, você escreveu um programa que pedia para o usuário entrar com uma string de nucleotídeos e ao final mostre a string de complementos. Modifique o seu programa para que ele primeiro construa a string de complementos usando o operador + e só a mostre no final.\n",
        "\n",
        "Veja um exemplo de saída do programa:\n",
        "\n",
        "```\n",
        "Digite a sua cadeia de nucleotídeos: ACTGCGA\n",
        "Resultado: TGACGCT\n",
        "```"
      ]
    },
    {
      "cell_type": "code",
      "execution_count": null,
      "metadata": {
        "collapsed": true,
        "id": "A89T8Cj6qlJW",
        "colab": {
          "base_uri": "https://localhost:8080/"
        },
        "outputId": "d6d4a4d4-d0dc-45d4-ef13-5272b6e6d92f"
      },
      "outputs": [
        {
          "output_type": "stream",
          "name": "stdout",
          "text": [
            "Digite uma cadeia de nucleotídeos: gtca\n",
            "CAGT\n"
          ]
        }
      ],
      "source": [
        "comp = ''\n",
        "nucl=input(\"Digite uma cadeia de nucleotídeos: \").upper()\n",
        "for i in nucl:\n",
        "  if i == 'A':\n",
        "    comp += 'T'\n",
        "  elif i == 'T':\n",
        "    comp += 'A'\n",
        "  elif i == 'C':\n",
        "    comp += 'G'\n",
        "  elif i == 'G':\n",
        "    comp += 'C'\n",
        "  else: comp += '-'\n",
        "print(comp)"
      ]
    },
    {
      "cell_type": "markdown",
      "metadata": {
        "id": "2pVhijvYqlJW"
      },
      "source": [
        "### Questão 6\n",
        "\n",
        "Também na última aula em laboratório, você fez um programa que invertia a cadeia de nucleotídeos antes de computar os complementos usando a função `reversed`. Modifique o seu programa para não usar a função reversed. Use acesso por índice percorrendo a cadeia de nucleotídeos da direita para a esquerda.\n",
        "\n",
        "Veja um exemplo de saída do programa:\n",
        "\n",
        "```\n",
        "Digite a sua cadeia de nucleotídeos: ACTGCGA\n",
        "Resultado: TCGCAGT\n",
        "```\n"
      ]
    },
    {
      "cell_type": "code",
      "execution_count": null,
      "metadata": {
        "collapsed": true,
        "id": "HMU-RzXrqlJW",
        "colab": {
          "base_uri": "https://localhost:8080/"
        },
        "outputId": "1a447191-d737-4a4b-d44a-3a475a9662af"
      },
      "outputs": [
        {
          "output_type": "stream",
          "name": "stdout",
          "text": [
            "Digite a sua cadeia de nucleotídeos: ggggaaaa\n",
            "TTTTCCCC\n"
          ]
        }
      ],
      "source": [
        "comp = \"\"\n",
        "cadeia = (input(\"Digite a sua cadeia de nucleotídeos: \")).upper()\n",
        "\n",
        "# Define o índice final da cadeia\n",
        "ind_fim = len(cadeia)-1\n",
        "# le a cadeia de tras pra frente.\n",
        "for i in range(ind_fim, -1, -1):\n",
        "  if cadeia[i] == 'A':\n",
        "    comp += 'T'\n",
        "  elif cadeia[i] == 'T':\n",
        "    comp += 'A'\n",
        "  elif cadeia[i] == 'C':\n",
        "    comp += 'G'\n",
        "  elif cadeia[i] == 'G':\n",
        "    comp += 'C'\n",
        "  else: comp += '-'\n",
        "print(comp)"
      ]
    }
  ],
  "metadata": {
    "kernelspec": {
      "display_name": "Python 3",
      "language": "python",
      "name": "python3"
    },
    "language_info": {
      "codemirror_mode": {
        "name": "ipython",
        "version": 3
      },
      "file_extension": ".py",
      "mimetype": "text/x-python",
      "name": "python",
      "nbconvert_exporter": "python",
      "pygments_lexer": "ipython3",
      "version": "3.5.2"
    },
    "colab": {
      "provenance": [],
      "include_colab_link": true
    }
  },
  "nbformat": 4,
  "nbformat_minor": 0
}