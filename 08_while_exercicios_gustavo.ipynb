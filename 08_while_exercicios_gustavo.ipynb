{
  "cells": [
    {
      "cell_type": "markdown",
      "metadata": {
        "id": "view-in-github",
        "colab_type": "text"
      },
      "source": [
        "<a href=\"https://colab.research.google.com/github/JUPITXXR/exercicios-de-FUP/blob/main/08_while_exercicios_gustavo.ipynb\" target=\"_parent\"><img src=\"https://colab.research.google.com/assets/colab-badge.svg\" alt=\"Open In Colab\"/></a>"
      ]
    },
    {
      "cell_type": "markdown",
      "metadata": {
        "id": "PKF-mjgjnghx"
      },
      "source": [
        "# Exercícios sobre Estrutura de Repetição com while\n",
        "\n",
        "> Antes de iniciar qualquer notebook, é importante que você limpe as saídas de todas as células para que você só veja o resultado de uma célula quando executá-la. Para isso, utilize o menu **Editar > Limpar todas as saídas**.\n",
        "\n",
        "## Requisitos\n",
        "\n",
        "Certifique-se de que você concluiu os seguintes notebooks:\n",
        "* [Introdução ao Python](01-intro.ipynb)\n",
        "* [Introdução à sintaxe de Python](02-sintaxe.ipynb)\n",
        "* [Strings, saída e entrada de dados e a biblioteca math](03-strings.ipynb)\n",
        "* [Exercícios sobre Estrutura Sequencial](04-exercicios.ipynb)\n",
        "* [Estrutura Condicional](05-condicoes-fluxo-controle.ipynb)\n",
        "* [Exercícios sobre Estrutura Condicional](06-exercicios.ipynb)\n",
        "* [O Comando while](07-while.ipynb)\n",
        "\n",
        "## Exercícios\n",
        "\n",
        "### Questão 1\n",
        "\n",
        "Na célula abaixo, escreva o programa em Python equivalente ao algoritmo escrito em pseudocódigo abaixo:\n",
        "\n",
        "\n",
        "```portugol\n",
        "algoritmo\n",
        "  declare CONT, SAIR, num numérico\n",
        "  CONT ← 0 # inicialização da variável CONT com zero\n",
        "  SAIR ← 0 # inicialização da variável que controla o laço\n",
        "  enquanto SAIR != 1 faça\n",
        "  início\n",
        "    escreva \"Digite um número: \"\n",
        "    leia num\n",
        "    CONT ← CONT + 1 # aumentando em 1 o valor de CONT\n",
        "    escreva \"Digite 0 para continuar ou 1 para sair: \"\n",
        "    leia SAIR\n",
        "  fim\n",
        "  escreva \"Quantidade de números digitados: \", CONT\n",
        "fim.\n",
        "```"
      ]
    },
    {
      "cell_type": "code",
      "execution_count": 2,
      "metadata": {
        "collapsed": true,
        "id": "lCFf-_Wanghz",
        "colab": {
          "base_uri": "https://localhost:8080/"
        },
        "outputId": "91431349-5789-4bbc-9c3b-3f73e794602c"
      },
      "outputs": [
        {
          "output_type": "stream",
          "name": "stdout",
          "text": [
            "Digite um número: 1\n",
            "Digite 0 para continuar ou 1 para sair:\n",
            "1\n",
            "Quantidade de números digitados:  1\n"
          ]
        }
      ],
      "source": [
        "cont = 0\n",
        "sair = 0\n",
        "\n",
        "while sair != 1:\n",
        "  num = int(input(\"Digite um número: \"))\n",
        "  cont += 1\n",
        "  sair = int(input(\"Digite 0 para continuar ou 1 para sair:\\n\"))\n",
        "print(\"Quantidade de números digitados:\",cont)"
      ]
    },
    {
      "cell_type": "markdown",
      "metadata": {
        "id": "YhrAgDwUnghz"
      },
      "source": [
        "### Questão 2\n",
        "\n",
        "Na célula abaixo, tomando como base o programa que você escreveu na questão 1, escreva um programa que peça para o usuário entrar com um número enquanto ele desejar e ao final mostre a quantos desses números eram pares."
      ]
    },
    {
      "cell_type": "code",
      "execution_count": null,
      "metadata": {
        "collapsed": true,
        "id": "NvOwR90pnghz",
        "colab": {
          "base_uri": "https://localhost:8080/"
        },
        "outputId": "3f59bf96-f45c-49d6-aa9b-c4fad373ab96"
      },
      "outputs": [
        {
          "output_type": "stream",
          "name": "stdout",
          "text": [
            "Digite um número:1\n",
            "Digite 0 para continuar ou 1 para sair:0\n",
            "Digite um número:2\n",
            "Digite 0 para continuar ou 1 para sair:0\n",
            "Digite um número:3\n",
            "Digite 0 para continuar ou 1 para sair:4\n",
            "Digite um número:4\n",
            "Digite 0 para continuar ou 1 para sair:0\n",
            "Digite um número:6\n",
            "Digite 0 para continuar ou 1 para sair:1\n",
            "\n",
            "Quantidade de números pares digitados: 3\n"
          ]
        }
      ],
      "source": [
        "cont = 0\n",
        "sair = 0\n",
        "while sair != 1:\n",
        "  num = int(input(\"Digite um número:\"))\n",
        "  if num % 2 == 0:\n",
        "    cont += 1\n",
        "  sair = int(input(\"Digite 0 para continuar ou 1 para sair:\"))\n",
        "print(\"\\nQuantidade de números pares digitados:\", cont)"
      ]
    },
    {
      "cell_type": "markdown",
      "metadata": {
        "id": "tnW4Znjqngh0"
      },
      "source": [
        "### Questão 3\n",
        "\n",
        "Na célula abaixo, escreva um programa usando o comando `while` para pedir a entrada de cinco notas. Ao final, calcule e mostre a média aritmética."
      ]
    },
    {
      "cell_type": "code",
      "execution_count": 4,
      "metadata": {
        "collapsed": true,
        "id": "8OzUSN_7ngh0",
        "colab": {
          "base_uri": "https://localhost:8080/"
        },
        "outputId": "fb9ac999-200c-42f6-fb7f-c7db4fbec735"
      },
      "outputs": [
        {
          "output_type": "stream",
          "name": "stdout",
          "text": [
            "Digite a 1ª nota: 10\n",
            "Digite a 2ª nota: 5\n",
            "Digite a 3ª nota: 12\n",
            "Digite a 4ª nota: 8\n",
            "Digite a 5ª nota: 10\n",
            "A média aritimética das notas é: 9.0\n"
          ]
        }
      ],
      "source": [
        "cont = 0\n",
        "soma = 0\n",
        "\n",
        "while cont != 5:\n",
        "  nota = int(input(f\"Digite a {cont+1}ª nota: \"))\n",
        "  cont += 1\n",
        "  soma += nota\n",
        "print(\"A média aritimética das notas é:\", (soma/cont))"
      ]
    },
    {
      "cell_type": "markdown",
      "metadata": {
        "id": "wlbOhphEngh0"
      },
      "source": [
        "### Questão 4\n",
        "\n",
        "Na célula abaixo, modifique o programa acima para além de mostrar a média aritmética, mostrar também quantas notas foram menores do que 7.0.\n"
      ]
    },
    {
      "cell_type": "code",
      "execution_count": null,
      "metadata": {
        "collapsed": true,
        "id": "wfsrOfCZngh0",
        "colab": {
          "base_uri": "https://localhost:8080/"
        },
        "outputId": "2e3ece5a-8fdd-4e0e-b2a1-92376dcd092f"
      },
      "outputs": [
        {
          "output_type": "stream",
          "name": "stdout",
          "text": [
            "Digite a nota do aluno:4\n",
            "Digite a nota do aluno:5\n",
            "Digite a nota do aluno:7\n",
            "Digite a nota do aluno:7\n",
            "Digite a nota do aluno:10\n",
            "A média final do aluno é: 6.6\n",
            "O aluno teve 2 notas abaixo de 7.0.\n"
          ]
        }
      ],
      "source": [
        "cont = 0\n",
        "soma = 0\n",
        "nsete = 0\n",
        "while cont < 5:\n",
        "  nota = float(input(\"Digite a nota do aluno:\"))\n",
        "  if nota < 7:\n",
        "    nsete += 1\n",
        "  soma += nota\n",
        "  cont += 1\n",
        "print(f\"A média final do aluno é: {soma/cont}\")\n",
        "print(f\"O aluno teve {nsete} notas abaixo de 7.0.\")"
      ]
    },
    {
      "cell_type": "markdown",
      "metadata": {
        "id": "aLklA3W8ngh0"
      },
      "source": [
        "### Questão 5\n",
        "\n",
        "Uma pessoa gostaria de fazer uma viagem que custa uma quantia **V** em reais e precisa de ajuda com o planejamento. A pessoa está disposta a fazer uma poupança iniciando em **I** reais e irá depositar mensalmente uma quantia **M** na poupança. Sabendo que a poupança rende 0,5% ao mês, na célula abaixo, faça um programa que receba esses dados do usuário e estime em quantos meses ele conseguiria o dinheiro para viajar.\n",
        "\n",
        "Veja alguns exemplos de saída desse programa:\n",
        "\n",
        "Exemplo 1:\n",
        "\n",
        "```\n",
        "-*-*-* Planejamento de Viagem -*-*-*\n",
        "\n",
        "Entre com o custo da viagem que você deseja fazer: 1000\n",
        "Entre com a quantia inicial da sua poupança: 1000\n",
        "Entre com a quantia mensal a ser depositada: 10\n",
        "Você conseguirá fazer a sua viagem em 0 meses e terá R$1000.00.\n",
        "```\n",
        "\n",
        "Exemplo 2:\n",
        "\n",
        "```\n",
        "-*-*-* Planejamento de Viagem -*-*-*\n",
        "\n",
        "Entre com o custo da viagem que você deseja fazer: 1000\n",
        "Entre com a quantia inicial da sua poupança: 500\n",
        "Entre com a quantia mensal a ser depositada: 50\n",
        "Você conseguirá fazer a sua viagem em 10 meses e terá R$1036.97.\n",
        "```"
      ]
    },
    {
      "cell_type": "code",
      "execution_count": 8,
      "metadata": {
        "collapsed": true,
        "id": "ku8ghqXnngh0",
        "colab": {
          "base_uri": "https://localhost:8080/"
        },
        "outputId": "f5e079ae-a96f-4f67-dfb0-05c9aac174e0"
      },
      "outputs": [
        {
          "output_type": "stream",
          "name": "stdout",
          "text": [
            "---------Planejamento de Viagem---------\n",
            "Entre com o custo da viagem que você deseja fazer: 1000\n",
            "Entre com a quantia inicial da sua poupança: 500\n",
            "Entre com a quantia mensal a ser depositada: 50\n",
            "Você conseguirá fazer sua viagem em 10 meses e terá R$1036.97.\n"
          ]
        }
      ],
      "source": [
        "print(\"---------Planejamento de Viagem---------\")\n",
        "cont = 0\n",
        "v = float(input(\"Entre com o custo da viagem que você deseja fazer: \"))\n",
        "i = float(input(\"Entre com a quantia inicial da sua poupança: \"))\n",
        "m = float(input(\"Entre com a quantia mensal a ser depositada: \"))\n",
        "\n",
        "while i < v:\n",
        "  cont += 1\n",
        "  i = (i+(i*0.005) + m)\n",
        "\n",
        "print(f\"Você conseguirá fazer sua viagem em {cont} meses e terá R${i:.2f}.\")"
      ]
    },
    {
      "cell_type": "markdown",
      "metadata": {
        "id": "vL2pAQO1ngh0"
      },
      "source": [
        "### Questão 6: Jogo adivinhe o número (nível *café com leite*)\n",
        "\n",
        "No notebook sobre [o comando while](05-while.ipynb), nós implementamos o jogo de adivinhe o número (nível *beginner*). Naquela versão, o usuário podia tentar tantas vezes até acertar o número. Nessa versão, nós iremos facilitar ainda mais a vida do usuário.\n",
        "\n",
        "Após cada tentativa incorreta, mostre uma dica para o usuário. Por exemplo, `\"Tente um número maior!\"` (se o usuário digitou um número menor do que o escolhido) ou `\"Tente um número menor!\"` (se o usuário digitou um número maior do que o escolhido). Ao final diga em quantas tentativas o usuário acertou o número.\n",
        "\n",
        "Veja um exemplo de saída do programa:\n",
        "\n",
        "```\n",
        "Adivinhe o número!\n",
        "Digite um número entre 1 e 10: 5\n",
        "Número errado. Tente um número maior.\n",
        "Digite um número: 8\n",
        "Número errado. Tente um número menor.\n",
        "Digite um número: 7\n",
        "Parabéns! Você acertou em 3 tentativas.\n",
        "```"
      ]
    },
    {
      "cell_type": "code",
      "execution_count": 9,
      "metadata": {
        "collapsed": true,
        "id": "Yt18CF02ngh0",
        "colab": {
          "base_uri": "https://localhost:8080/"
        },
        "outputId": "15ffc7a2-6aee-4264-8359-47e74f201369"
      },
      "outputs": [
        {
          "output_type": "stream",
          "name": "stdout",
          "text": [
            "Bem Vindo(a), Agora iremos brincar de um jogo de Adivinha.\n",
            "\n",
            "Irei escolher um nùmero entre 1 e 10, e você tem que advinhar que número é esse.\n",
            "\n",
            "Preparado? Vamos lá...\n",
            "\n",
            "Advinhe o número que escolhi: 7\n",
            "7 ? Não, não é nesse número que estou pensando. Tente um número maior...\n",
            "Vou te dar mais uma chance. Em qual número estou pensando?53\n",
            "53 ? Não, não é nesse número que estou pensando. Tente um número menor...\n",
            "Vou te dar mais uma chance. Em qual número estou pensando?8\n",
            "8 ? Não, não é nesse número que estou pensando. Tente um número maior...\n",
            "Vou te dar mais uma chance. Em qual número estou pensando?9\n",
            "9 ? Não, não é nesse número que estou pensando. Tente um número maior...\n",
            "Vou te dar mais uma chance. Em qual número estou pensando?10\n",
            "Parabéns!! Você acertou. 10 Foi o número que eu pensei.\n",
            "Você acertou em 5 tentativas.\n"
          ]
        }
      ],
      "source": [
        "import random\n",
        "numero = random.randint(1,10)\n",
        "cont = 1\n",
        "print(\"Bem Vindo(a), Agora iremos brincar de um jogo de Adivinha.\\n\")\n",
        "print(\"Irei escolher um nùmero entre 1 e 10, e você tem que advinhar que número é esse.\\n\")\n",
        "print(\"Preparado? Vamos lá...\\n\")\n",
        "\n",
        "n = int(input(\"Advinhe o número que escolhi: \"))\n",
        "\n",
        "while n != numero:\n",
        "  cont += 1\n",
        "  if n < numero:\n",
        "    print(n,\"? Não, não é nesse número que estou pensando. Tente um número maior...\")\n",
        "  else: print(n,\"? Não, não é nesse número que estou pensando. Tente um número menor...\")\n",
        "  n = int(input(\"Vou te dar mais uma chance. Em qual número estou pensando? \"))\n",
        "\n",
        "print(\"Parabéns!! Você acertou.\", n, \"Foi o número que eu pensei.\")\n",
        "print(f\"Você acertou em {cont} tentativas.\")"
      ]
    },
    {
      "cell_type": "markdown",
      "metadata": {
        "id": "0yI3alEbngh1"
      },
      "source": [
        "### Questão 7: Jogo adivinhe o número (nível *hard*)\n",
        "\n",
        "Na célula abaixo, modifique o programa anterior para o nível *hard* que limita o número de tentativas em 3, mas ainda mostra as dicas.\n"
      ]
    },
    {
      "cell_type": "code",
      "execution_count": null,
      "metadata": {
        "id": "GZVZ6lm2ngh1",
        "colab": {
          "base_uri": "https://localhost:8080/"
        },
        "outputId": "96b3ee7b-dad2-43bc-bb6a-a0f26682bb46"
      },
      "outputs": [
        {
          "output_type": "stream",
          "name": "stdout",
          "text": [
            "Bem Vindo(a), Agora iremos brincar de um jogo de Adivinha.\n",
            "\n",
            "Irei escolher um nùmero entre 1 e 10, e você terá 3 chances para advinhar que número é esse.\n",
            "\n",
            "Preparado? Vamos lá...\n",
            "\n",
            "Advinhe o número que escolhi: 10\n",
            "10 ? Não, não é nesse número que estou pensando. Tente um número menor...\n",
            "Você ainda tem 2 chance(s).\n",
            "Em qual número estou pensando?: 9\n",
            "9 ? Não, não é nesse número que estou pensando. Tente um número menor...\n",
            "Você ainda tem 1 chance(s).\n",
            "Em qual número estou pensando?: 8\n",
            "Suas chances acabaram e você não acertou ;-;. 5 foi o número que eu escolhi.\n"
          ]
        }
      ],
      "source": [
        "import random\n",
        "numero = random.randint(1,10)\n",
        "cont = 1\n",
        "chance = 3\n",
        "\n",
        "print(\"Bem Vindo(a), Agora iremos brincar de um jogo de Adivinha.\\n\")\n",
        "print(\"Irei escolher um nùmero entre 1 e 10, e você terá 3 chances para advinhar que número é esse.\\n\")\n",
        "print(\"Preparado? Vamos lá...\\n\")\n",
        "\n",
        "n = int(input(\"Advinhe o número que escolhi: \"))\n",
        "while n != numero:\n",
        "  cont += 1\n",
        "  chance -= 1\n",
        "\n",
        "  if chance == 0:\n",
        "    print(f\"Suas chances acabaram e você não acertou ;-;. {numero} foi o número que eu escolhi.\")\n",
        "    break\n",
        "\n",
        "  if n < numero:\n",
        "    print(n,\"? Não, não é nesse número que estou pensando. Tente um número maior...\")\n",
        "  else: print(n,\"? Não, não é nesse número que estou pensando. Tente um número menor...\")\n",
        "\n",
        "  print(f\"Você ainda tem {chance} chance(s).\")\n",
        "  n = int(input(\"Em qual número estou pensando?: \"))\n",
        "\n",
        "  if n == numero:\n",
        "    print(\"Parabéns!! Você acertou.\", numero, \"Foi o número que eu pensei.\")\n",
        "    print(f\"Você acertou em {cont} tentativas.\")"
      ]
    },
    {
      "cell_type": "markdown",
      "metadata": {
        "id": "vRsqIBXvngh1"
      },
      "source": [
        "### Questão 8\n",
        "Na célula abaixo, escreva um programa que pede para o usuário entrar com um número de nucleotídeos e depois peça um nucleotídeo (A, C, T ou G) de cada vez e mostre o complemento dele. Como no exercício da aula passada, o seu programa deve aceitar maiúsculas ou minúsculas. Se o usuário entrar com uma letra inválida, ignore a letra, mas a considere na contagem."
      ]
    },
    {
      "cell_type": "code",
      "execution_count": null,
      "metadata": {
        "collapsed": true,
        "id": "ZIP5v5eQngh1",
        "colab": {
          "base_uri": "https://localhost:8080/"
        },
        "outputId": "5311cdb6-006f-46e4-d89d-e1493ecdfa4f"
      },
      "outputs": [
        {
          "output_type": "stream",
          "name": "stdout",
          "text": [
            "Digite a quantidade de nucleotídeos: 4\n",
            "Digite UM necleotídeo A, C, T ou G:a\n",
            "Seu complemento é A - T\n",
            "Digite UM necleotídeo A, C, T ou G:g\n",
            "Seu complemento é G - C\n",
            "Digite UM necleotídeo A, C, T ou G:t\n",
            "Seu complemento é T - A\n",
            "Digite UM necleotídeo A, C, T ou G:y\n",
            "Letra inválida!!\n"
          ]
        }
      ],
      "source": [
        "cont = 0\n",
        "n = int(input(\"Digite a quantidade de nucleotídeos: \"))\n",
        "\n",
        "while cont < n:\n",
        "  cont += 1\n",
        "  letra = str(input(\"Digite UM necleotídeo A, C, T ou G: \")).upper()\n",
        "\n",
        "  if letra == 'A':\n",
        "    print(\"Seu complemento é\", letra,\"- T\")\n",
        "  elif letra == 'C':\n",
        "    print(\"Seu complemento é\", letra,\"- G\")\n",
        "  elif letra == 'T':\n",
        "    print(\"Seu complemento é\", letra,\"- A\")\n",
        "  elif letra == 'G':\n",
        "    print(\"Seu complemento é\", letra,\"- C\")\n",
        "  else : print(\"Letra inválida!!\")\n"
      ]
    },
    {
      "cell_type": "markdown",
      "metadata": {
        "id": "1WFDQPfAngh1"
      },
      "source": [
        "Ao terminar, você já pode ir para o próximo notebook: [Estrutura de Repetição for](09-for.ipynb)."
      ]
    }
  ],
  "metadata": {
    "kernelspec": {
      "display_name": "Python 3",
      "language": "python",
      "name": "python3"
    },
    "language_info": {
      "codemirror_mode": {
        "name": "ipython",
        "version": 3
      },
      "file_extension": ".py",
      "mimetype": "text/x-python",
      "name": "python",
      "nbconvert_exporter": "python",
      "pygments_lexer": "ipython3",
      "version": "3.5.2"
    },
    "colab": {
      "provenance": [],
      "include_colab_link": true
    }
  },
  "nbformat": 4,
  "nbformat_minor": 0
}